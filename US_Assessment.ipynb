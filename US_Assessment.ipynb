{
 "cells": [
  {
   "cell_type": "markdown",
   "id": "da04cf8f-2d64-4791-8955-bcf7955490e7",
   "metadata": {},
   "source": [
    "<div style=\"float:left\">\n",
    "    <h1 style=\"width:600px\">Assessment</h1>\n",
    "    <h3 style=\"width:600px\">CASA0002: Urban Simulation</h3>\n",
    "    <h3 style=\"width:600px\">Author: Andres Restrepo</h3>\n",
    "\n",
    "</div>\n",
    "<div style=\"float:right\"><img width=\"100\" src=\"https://github.com/jreades/i2p/raw/master/img/casa_logo.jpg\" /></div>"
   ]
  },
  {
   "cell_type": "code",
   "execution_count": null,
   "id": "199054d4-25a7-46de-a512-b3e50226fb24",
   "metadata": {},
   "outputs": [],
   "source": []
  },
  {
   "cell_type": "markdown",
   "id": "37282c59-c9d3-44f0-b2b3-5a0e54f2cbd4",
   "metadata": {},
   "source": [
    "## Required libraries"
   ]
  },
  {
   "cell_type": "code",
   "execution_count": null,
   "id": "c6e599a3-90e6-4312-b547-30dc76beb853",
   "metadata": {},
   "outputs": [],
   "source": [
    "import timeit\n",
    "start_time = timeit.default_timer()\n",
    "import numpy as np\n",
    "import networkx as nx\n",
    "import matplotlib.pyplot as plt\n",
    "import pandas as pd\n",
    "import seaborn as sns"
   ]
  },
  {
   "cell_type": "markdown",
   "id": "8436f434-f5f9-4eea-a15d-7a8b470e2af8",
   "metadata": {},
   "source": [
    "## Data reading"
   ]
  },
  {
   "cell_type": "markdown",
   "id": "d0755f11-502c-4328-b05a-0351e07e6f0a",
   "metadata": {},
   "source": [
    "### Underground network"
   ]
  },
  {
   "cell_type": "code",
   "execution_count": null,
   "id": "ebb7c3a3-215e-4947-b307-b5ff9fcc26f4",
   "metadata": {},
   "outputs": [],
   "source": [
    "G = nx.read_graphml('Data/Inputs/london.graph')"
   ]
  },
  {
   "cell_type": "code",
   "execution_count": null,
   "id": "d3d1f23f-66ce-4c04-a816-8a46f00a57fe",
   "metadata": {},
   "outputs": [],
   "source": [
    "type(G)"
   ]
  },
  {
   "cell_type": "markdown",
   "id": "bace151b-5164-43b6-96b1-cbf846cfe94d",
   "metadata": {},
   "source": [
    "### OD matrix"
   ]
  },
  {
   "cell_type": "code",
   "execution_count": null,
   "id": "b84e1bf9-3749-4ff4-8017-15062a2c7317",
   "metadata": {},
   "outputs": [],
   "source": [
    "OD = pd.read_csv('Data/Inputs/OD_matrix.csv',index_col='station_origin')\n",
    "OD.rename_axis('station_destination', axis=1,inplace=True)"
   ]
  },
  {
   "cell_type": "code",
   "execution_count": null,
   "id": "d3b5beac-ab03-4d30-9271-07e5b6acd738",
   "metadata": {},
   "outputs": [],
   "source": [
    "type(OD)"
   ]
  },
  {
   "cell_type": "markdown",
   "id": "9431fc44-2d3a-4994-b38d-2bc83be334ab",
   "metadata": {},
   "source": [
    "### Flow data"
   ]
  },
  {
   "cell_type": "code",
   "execution_count": null,
   "id": "773d79bd-8b79-4c98-b15a-947916bb4c66",
   "metadata": {},
   "outputs": [],
   "source": [
    "london_OD_AMpeak = pd.read_csv('Data/Inputs/london_flows.csv')"
   ]
  },
  {
   "cell_type": "code",
   "execution_count": null,
   "id": "ec551732-b877-4eb8-93d2-298dfd876481",
   "metadata": {},
   "outputs": [],
   "source": [
    "type(london_OD_AMpeak)"
   ]
  },
  {
   "cell_type": "markdown",
   "id": "e2746ed5-ff4a-40d3-88d9-5dee1963312d",
   "metadata": {},
   "source": [
    "## Data inspection"
   ]
  },
  {
   "cell_type": "markdown",
   "id": "ba8ee19a-9fda-497f-be35-28fe09a4c6ce",
   "metadata": {},
   "source": [
    "### Underground network"
   ]
  },
  {
   "cell_type": "code",
   "execution_count": null,
   "id": "9fd5c5b1-9d93-49c0-ad5d-9fcd51df3636",
   "metadata": {},
   "outputs": [],
   "source": [
    "print(nx.info(G))"
   ]
  },
  {
   "cell_type": "code",
   "execution_count": null,
   "id": "5f9c1240-ec84-4939-84f1-b48be2b238e2",
   "metadata": {},
   "outputs": [],
   "source": [
    "list(G.nodes(data = True))[0]"
   ]
  },
  {
   "cell_type": "code",
   "execution_count": null,
   "id": "ed1f52c4-0cc8-4536-bdd9-f7b4c9626875",
   "metadata": {},
   "outputs": [],
   "source": [
    "# #check that all distances are greater or equal to euclidean distance\n",
    "# for u,v, data in G.edges(data=True):\n",
    "#     assert(data['length'] >= distance.euclidean(pos[u], pos[v]))"
   ]
  },
  {
   "cell_type": "code",
   "execution_count": null,
   "id": "8695e6fe-eae4-4156-8457-11b0199a75f6",
   "metadata": {},
   "outputs": [],
   "source": [
    "#if want to know what is the maximum distance between stations\n",
    "max(dict(G.edges).items(), key=lambda x: x[1]['length'])"
   ]
  },
  {
   "cell_type": "code",
   "execution_count": null,
   "id": "b1ba15b5-1f0f-40c9-bb6b-a85ffa927080",
   "metadata": {},
   "outputs": [],
   "source": [
    "#if want to know to which stations Baker Street is directly connected to\n",
    "Baker_Street = [(u,v) for  u,v in G.edges() if u == 'Baker Street' or v == 'Baker Street']\n",
    "Baker_Street"
   ]
  },
  {
   "cell_type": "code",
   "execution_count": null,
   "id": "f02d7051-3622-4cf0-af9e-5872a01cb104",
   "metadata": {},
   "outputs": [],
   "source": [
    "#if want to know to which stations Baker Street is directly connected to\n",
    "Stratford = [(u,v) for  u,v in G.edges() if u == 'Stratford' or v == 'Stratford']\n",
    "Stratford"
   ]
  },
  {
   "cell_type": "code",
   "execution_count": null,
   "id": "44cdc284-c6fa-4691-a5ea-af9918501b7f",
   "metadata": {},
   "outputs": [],
   "source": [
    "#We can also check the degree of the nodes in our network and check that they make sense\n",
    "deg_london = nx.degree(G)"
   ]
  },
  {
   "cell_type": "code",
   "execution_count": null,
   "id": "eaa1fcfe-fd88-4323-b55a-03108722607b",
   "metadata": {},
   "outputs": [],
   "source": [
    "df = pd.DataFrame(index = dict(deg_london).keys())\n",
    "df['degree'] = dict(deg_london).values()"
   ]
  },
  {
   "cell_type": "code",
   "execution_count": null,
   "id": "33d0d19c-95ab-462c-8259-8a11e51709a2",
   "metadata": {},
   "outputs": [],
   "source": [
    "df.sort_values('degree', ascending =False).head(20)"
   ]
  },
  {
   "cell_type": "markdown",
   "id": "82d8417a-d904-41ea-b403-b4c0e49b1861",
   "metadata": {},
   "source": [
    "The inspecting results are consistent with the results of Practical 10."
   ]
  },
  {
   "cell_type": "markdown",
   "id": "8d18996e-9d53-466d-84c8-d9d43b870b7a",
   "metadata": {},
   "source": [
    "### OD matrix"
   ]
  },
  {
   "cell_type": "code",
   "execution_count": null,
   "id": "15470eb4-24c4-4f83-bd20-b003576f6de0",
   "metadata": {},
   "outputs": [],
   "source": [
    "OD.info()"
   ]
  },
  {
   "cell_type": "code",
   "execution_count": null,
   "id": "d5d1d29f-35d6-48b2-98e4-428e52eed3b4",
   "metadata": {
    "tags": []
   },
   "outputs": [],
   "source": [
    "OD.head()"
   ]
  },
  {
   "cell_type": "markdown",
   "id": "01efaefa-6fcd-4f87-b43e-3d2d050b7e0a",
   "metadata": {},
   "source": [
    "The inspecting results are consistent with the results of Practical 10."
   ]
  },
  {
   "cell_type": "markdown",
   "id": "08d27697-ea40-4a15-9e9b-fc79c86f6db2",
   "metadata": {},
   "source": [
    "### Flow data"
   ]
  },
  {
   "cell_type": "code",
   "execution_count": null,
   "id": "70204fea-5917-4ebc-bcdf-b6e600844ae0",
   "metadata": {},
   "outputs": [],
   "source": [
    "london_OD_AMpeak.info()"
   ]
  },
  {
   "cell_type": "code",
   "execution_count": null,
   "id": "dc8699b0-2b76-45cc-b73b-30fbdfbe11be",
   "metadata": {
    "tags": []
   },
   "outputs": [],
   "source": [
    "london_OD_AMpeak.head()"
   ]
  },
  {
   "cell_type": "markdown",
   "id": "3120dd59-3b91-4989-b962-d5721e1d966e",
   "metadata": {},
   "source": [
    "The inspecting results are consistent with the results of Practical 10."
   ]
  },
  {
   "cell_type": "code",
   "execution_count": null,
   "id": "2fc53065-fb7c-4ed4-bb94-1b43e9f7be11",
   "metadata": {},
   "outputs": [],
   "source": []
  },
  {
   "cell_type": "markdown",
   "id": "c7c7b090-69b1-492d-bfc1-f51e81658eb6",
   "metadata": {},
   "source": [
    "# London’s underground resilience"
   ]
  },
  {
   "cell_type": "markdown",
   "id": "14c57d91-5368-441a-ad15-da7ba730b73b",
   "metadata": {
    "tags": []
   },
   "source": [
    "## Topological network"
   ]
  },
  {
   "cell_type": "markdown",
   "id": "a066920e-e854-44a0-bc50-81cf78e38ebd",
   "metadata": {},
   "source": [
    "![img](https://tfl.gov.uk/cdn/static/cms/images/london-rail-and-tube-services-map.gif)"
   ]
  },
  {
   "cell_type": "code",
   "execution_count": null,
   "id": "b0424d0b-0786-4162-a8d4-9f208c89328b",
   "metadata": {},
   "outputs": [],
   "source": [
    "#since coords tuples are stored as string, need to convert them back to tuples using eval()\n",
    "for node in G.nodes():\n",
    "    G.nodes[node]['coords'] = eval(G.nodes[node]['coords'])"
   ]
  },
  {
   "cell_type": "code",
   "execution_count": null,
   "id": "869ed649-8fac-4d9e-8c6c-5004a1f5f219",
   "metadata": {},
   "outputs": [],
   "source": [
    "list(G.nodes(data = True))[0]"
   ]
  },
  {
   "cell_type": "code",
   "execution_count": null,
   "id": "44d2f4ec-64bf-45c2-a97f-1d13ea27473c",
   "metadata": {},
   "outputs": [],
   "source": [
    "# We can plot the tube network with the names of the stations as labels\n",
    "fig, ax = plt.subplots(figsize=(25,20))\n",
    "\n",
    "pos = nx.get_node_attributes(G, 'coords')\n",
    "\n",
    "# Nodes\n",
    "nx.draw_networkx_nodes(G,pos,node_size=50,node_color='b')\n",
    "# Edges\n",
    "nx.draw_networkx_edges(G,pos,arrows=False,width=0.2)\n",
    "# Labels\n",
    "nx.draw_networkx_labels(G,pos, font_size=10, font_color='black')\n",
    "\n",
    "plt.title(\"London underground network\",fontsize=20)\n",
    "plt.axis(\"off\")\n",
    "plt.show()"
   ]
  },
  {
   "cell_type": "markdown",
   "id": "89345c34-1c1b-469a-8fa5-83f9c8bf02f9",
   "metadata": {},
   "source": [
    "**It better to normalized to compare more easily?**"
   ]
  },
  {
   "cell_type": "markdown",
   "id": "a0f67261-a558-4019-8dc7-2326aae800eb",
   "metadata": {
    "tags": []
   },
   "source": [
    "### Centrality measures"
   ]
  },
  {
   "cell_type": "markdown",
   "id": "a8ab3100-40cd-41bf-90fb-0c9620f4a432",
   "metadata": {},
   "source": [
    "**Include eigen vector centrality?**"
   ]
  },
  {
   "cell_type": "markdown",
   "id": "9ebab271-6885-4669-a984-35989caf2fb2",
   "metadata": {},
   "source": [
    "#### Calculation"
   ]
  },
  {
   "cell_type": "code",
   "execution_count": null,
   "id": "9a55634a-32ce-4586-a681-a420f2dce573",
   "metadata": {},
   "outputs": [],
   "source": [
    "df_centrality = pd.DataFrame(index=G.nodes())\n",
    "\n",
    "deg_london =nx.degree_centrality(G)\n",
    "nx.set_node_attributes(G,dict(deg_london),'degree')\n",
    "df_centrality['degree'] = pd.Series(nx.get_node_attributes(G, 'degree'))\n",
    "\n",
    "clos_london = nx.closeness_centrality(G)\n",
    "nx.set_node_attributes(G,clos_london,'closeness_t')\n",
    "df_centrality['closeness_t'] = pd.Series(nx.get_node_attributes(G, 'closeness_t'))\n",
    "\n",
    "bet_london = nx.betweenness_centrality(G)\n",
    "nx.set_node_attributes(G,bet_london,'betweenness_t')\n",
    "df_centrality['betweenness_t'] = pd.Series(nx.get_node_attributes(G, 'betweenness_t'))\n",
    "\n",
    "eig_london = nx.eigenvector_centrality_numpy(G)\n",
    "nx.set_node_attributes(G,bet_london,'eigenvector_t')\n",
    "df_centrality['eigenvector_t'] = pd.Series(nx.get_node_attributes(G, 'eigenvector_t'))\n",
    "# Change the tolerance value\n",
    "\n"
   ]
  },
  {
   "cell_type": "code",
   "execution_count": null,
   "id": "d137cfaf-f342-4af2-94ab-fe4f0a5f307b",
   "metadata": {},
   "outputs": [],
   "source": [
    "df_centrality.head(10).sort_values(by=['degree'],ascending=False)"
   ]
  },
  {
   "cell_type": "markdown",
   "id": "922b86f5-2b67-45a0-967c-5790b5af25d3",
   "metadata": {
    "tags": []
   },
   "source": [
    "#### Degree centrality"
   ]
  },
  {
   "cell_type": "code",
   "execution_count": null,
   "id": "a59251ee-e788-407a-b89d-4f491f4a4968",
   "metadata": {},
   "outputs": [],
   "source": [
    "df_centrality['degree'].sort_values(ascending=False)"
   ]
  },
  {
   "cell_type": "code",
   "execution_count": null,
   "id": "ae216702-3d96-4346-90c6-c96c0327391b",
   "metadata": {},
   "outputs": [],
   "source": [
    "# Plot of degree centrality\n",
    "degree_values=[(i[1]['degree']) for i in G.nodes(data=True)]\n",
    "# Sclaling using the maximum value of the degree\n",
    "deg_color=[(i[1]['degree']/(max(degree_values))) for i in G.nodes(data=True)]\n",
    "# Sclaling using the maximum value of the degree and multipling it by 50\n",
    "deg_size=[(i[1]['degree']/(max(degree_values)))*100 for i in G.nodes(data=True)]\n",
    "\n",
    "\n",
    "# Plot graph\n",
    "pos=pos\n",
    "fig, ax = plt.subplots(figsize=(12,12))\n",
    "# Edges\n",
    "nx.draw_networkx_edges(G, pos,edge_color='gray', \n",
    "        width=0.4)\n",
    "# Nodes\n",
    "nod=nx.draw_networkx_nodes(G,\n",
    "        pos = pos,\n",
    "        node_color= deg_color,\n",
    "        node_size= deg_size)\n",
    "\n",
    "plt.colorbar(nod,label=\"Degree centrality\",orientation=\"horizontal\", shrink=0.5)\n",
    "plt.axis(\"off\")\n",
    "plt.title(\"London underground degree centrality\",fontsize=15)\n",
    "plt.show()"
   ]
  },
  {
   "cell_type": "markdown",
   "id": "0fc7c9d9-18db-4eb1-a6ec-bd9c6d0fe613",
   "metadata": {
    "tags": []
   },
   "source": [
    "#### Closeness centrality"
   ]
  },
  {
   "cell_type": "code",
   "execution_count": null,
   "id": "874c5054-3e6d-4a2f-bbe4-8d9ee80e05da",
   "metadata": {},
   "outputs": [],
   "source": [
    "df_centrality['closeness_t'].sort_values(ascending=False)[0:10]"
   ]
  },
  {
   "cell_type": "code",
   "execution_count": null,
   "id": "f4a9da95-590f-4aba-9a76-2f9fa1a746bb",
   "metadata": {},
   "outputs": [],
   "source": [
    "# Lets set color and width of nodes according to the closeness values\n",
    "close_t_values=[(i[1]['closeness_t']) for i in G.nodes(data=True)]\n",
    "\n",
    "# close_t_color=[(i[1]['closeness_t']-min(close_t_values))/(max(close_t_values)-min(close_t_values)) for i in G.nodes(data=True)]\n",
    "# close_t_size=[((i[1]['closeness_t']-min(close_t_values))/(max(close_t_values)-min(close_t_values))*50) for i in G.nodes(data=True)]\n",
    "\n",
    "close_t_color=[(i[1]['closeness_t']/max(close_t_values)) for i in G.nodes(data=True)]\n",
    "close_t_size=[(i[1]['closeness_t']/max(close_t_values)*100) for i in G.nodes(data=True)]\n",
    "\n",
    "# Plot graph\n",
    "fig, ax = plt.subplots(figsize=(12,12))\n",
    "\n",
    "nx.draw_networkx_edges(G, pos,edge_color='gray', \n",
    "        width=0.4)\n",
    "\n",
    "nod=nx.draw_networkx_nodes(G,\n",
    "        pos = pos,\n",
    "        node_color= close_t_color,\n",
    "        node_size= close_t_size)\n",
    "\n",
    "plt.colorbar(nod,label=\"Topological closeness centrality\",orientation=\"horizontal\", shrink=0.5)\n",
    "plt.axis(\"off\")\n",
    "plt.title(\"London underground topological closeness centrality\",fontsize=15)\n",
    "plt.show()"
   ]
  },
  {
   "cell_type": "markdown",
   "id": "8ad1cc60-8c01-43fb-8d32-d17e253b2b7a",
   "metadata": {
    "tags": []
   },
   "source": [
    "#### Betweenness centrality"
   ]
  },
  {
   "cell_type": "code",
   "execution_count": null,
   "id": "c178520f-8b7f-49f8-bfee-c33e6349ea76",
   "metadata": {},
   "outputs": [],
   "source": [
    "df_centrality['betweenness_t'].sort_values(ascending=False)[0:10]"
   ]
  },
  {
   "cell_type": "code",
   "execution_count": null,
   "id": "e308a27d-99ba-4059-9f2f-bd17916616f0",
   "metadata": {},
   "outputs": [],
   "source": [
    "# Lets set colour and size of nodes according to betweenness values\n",
    "bet_t_values=[(i[1]['betweenness_t']) for i in G.nodes(data=True)]\n",
    "\n",
    "bet_t_color=[(i[1]['betweenness_t']/max(bet_t_values)) for i in G.nodes(data=True)]\n",
    "bet_t_size=[(i[1]['betweenness_t']/max(bet_t_values))*100 for i in G.nodes(data=True)]\n",
    "\n",
    "# Plot graph\n",
    "fig, ax = plt.subplots(figsize=(12,12))\n",
    "\n",
    "nx.draw_networkx_edges(G, pos,edge_color='gray', width=0.4)\n",
    "\n",
    "nod=nx.draw_networkx_nodes(G, pos = pos, node_color= bet_t_color, node_size= bet_t_size)\n",
    "\n",
    "plt.colorbar(nod,label=\"Topological betweenness centrality\",orientation=\"horizontal\", shrink=0.5)\n",
    "plt.axis(\"off\")\n",
    "plt.title(\"London underground topological betweenness centrality\",fontsize=15)\n",
    "plt.show()"
   ]
  },
  {
   "cell_type": "markdown",
   "id": "ea5766f9-2d04-46e7-85c8-bf2c14d79b2d",
   "metadata": {},
   "source": [
    "#### Eigenvector  centrality"
   ]
  },
  {
   "cell_type": "code",
   "execution_count": null,
   "id": "cefd1ef3-96bc-4241-9a0b-4b41614082da",
   "metadata": {},
   "outputs": [],
   "source": [
    "df_centrality['eigenvector_t'].sort_values(ascending=False)[0:10]"
   ]
  },
  {
   "cell_type": "code",
   "execution_count": null,
   "id": "e8e5030f-8963-40c8-ab19-5a84ff6807d7",
   "metadata": {},
   "outputs": [],
   "source": [
    "# Eigenvetor centrality\n",
    "eig_t_values=[(i[1]['eigenvector_t']) for i in G.nodes(data=True)]\n",
    "eig_t_color=[(i[1]['eigenvector_t']/max(eig_t_values)) for i in G.nodes(data=True)]\n",
    "eig_t_size=[(i[1]['eigenvector_t']/max(eig_t_values))*100 for i in G.nodes(data=True)]\n",
    "\n",
    "# Plot graph\n",
    "fig, ax = plt.subplots(figsize=(12,12))\n",
    "\n",
    "nx.draw_networkx_edges(G, pos,edge_color='gray', width=0.4)\n",
    "\n",
    "nod=nx.draw_networkx_nodes(G, pos = pos, node_color= eig_t_color, node_size= eig_t_size)\n",
    "\n",
    "plt.colorbar(nod,label=\"Topological eigenvector centrality\",orientation=\"horizontal\", shrink=0.5)\n",
    "plt.axis(\"off\")\n",
    "plt.title(\"London underground topological eigenvector centrality\",fontsize=15)\n",
    "plt.show()"
   ]
  },
  {
   "cell_type": "markdown",
   "id": "086d5605-3c26-44e3-a2cc-2631f6649fe1",
   "metadata": {
    "tags": []
   },
   "source": [
    "#### Results summary"
   ]
  },
  {
   "cell_type": "code",
   "execution_count": null,
   "id": "e0846bc5-82f1-4539-9f58-b508e2e7c711",
   "metadata": {},
   "outputs": [],
   "source": [
    "df_ranking = pd.DataFrame()\n",
    "rank = list(range(1, df_centrality.shape[0]+1))\n",
    "df_ranking['rank'] = rank\n",
    "\n",
    "degree_rank = df_centrality.sort_values(by='degree',ascending=False).index.values.tolist()\n",
    "degree_value = df_centrality['degree'].sort_values(ascending=False).values.tolist()\n",
    "clos_rank = df_centrality.sort_values(by='closeness_t',ascending=False).index.values.tolist()\n",
    "clos_value = df_centrality['closeness_t'].sort_values(ascending=False).values.tolist()\n",
    "bet_rank = df_centrality.sort_values(by='betweenness_t',ascending=False).index.values.tolist()\n",
    "bet_value = df_centrality['betweenness_t'].sort_values(ascending=False).values.tolist()\n",
    "eig_rank = df_centrality.sort_values(by='eigenvector_t',ascending=False).index.values.tolist()\n",
    "eig_value = df_centrality['eigenvector_t'].sort_values(ascending=False).values.tolist()\n",
    "\n",
    "\n",
    "df_ranking['Degree'] = degree_rank\n",
    "df_ranking['Degree value'] = degree_value\n",
    "df_ranking['Topological closeness'] = clos_rank\n",
    "df_ranking['Closeness value'] = clos_value\n",
    "df_ranking['Topological betweenness'] = bet_rank\n",
    "df_ranking['Betweenness value'] = bet_value\n",
    "df_ranking['Topological Eigenvector'] = eig_rank\n",
    "df_ranking['Eigenvector value'] = eig_value\n",
    "\n",
    "df_ranking.head(10)\n"
   ]
  },
  {
   "cell_type": "code",
   "execution_count": null,
   "id": "e82e5af0-806b-48a0-89c9-4baafa652596",
   "metadata": {},
   "outputs": [],
   "source": [
    "# df_ranking.loc[]"
   ]
  },
  {
   "cell_type": "markdown",
   "id": "4f300868-cff7-4c2d-a9e3-688623433345",
   "metadata": {},
   "source": [
    "### Impact measures"
   ]
  },
  {
   "cell_type": "markdown",
   "id": "fd87b14e-ef9a-4449-9e61-54431154988a",
   "metadata": {},
   "source": [
    "**Nodes**"
   ]
  },
  {
   "cell_type": "code",
   "execution_count": null,
   "id": "c120da29-b0b9-4d88-b37c-5f61e7b8a1b3",
   "metadata": {},
   "outputs": [],
   "source": [
    "#list(G.nodes())"
   ]
  },
  {
   "cell_type": "markdown",
   "id": "b073f084-1228-4ad8-a51f-96ccf12749a2",
   "metadata": {},
   "source": [
    "**Number of nodes**"
   ]
  },
  {
   "cell_type": "code",
   "execution_count": null,
   "id": "b39ef46b-6433-4ebd-98b8-7a2f460b6018",
   "metadata": {},
   "outputs": [],
   "source": [
    "G.number_of_nodes()"
   ]
  },
  {
   "cell_type": "markdown",
   "id": "107352ff-0608-4fb9-8f39-c45ad527f9ec",
   "metadata": {},
   "source": [
    "**Diameter**"
   ]
  },
  {
   "cell_type": "code",
   "execution_count": null,
   "id": "32c12e9f-c14d-48fe-a0b8-633d3e63165d",
   "metadata": {},
   "outputs": [],
   "source": [
    "d=nx.diameter(G)\n",
    "print(d)"
   ]
  },
  {
   "cell_type": "markdown",
   "id": "d12ce136-11cc-49d1-b8e9-773b268f7038",
   "metadata": {},
   "source": [
    "**Average shortest path**"
   ]
  },
  {
   "cell_type": "code",
   "execution_count": null,
   "id": "d12340e1-5926-427c-9af1-6bf814287db4",
   "metadata": {},
   "outputs": [],
   "source": [
    "asp = nx.average_shortest_path_length(G)\n",
    "print(asp)"
   ]
  },
  {
   "cell_type": "markdown",
   "id": "0ef51297-9c0c-421b-a17f-47511800031c",
   "metadata": {},
   "source": [
    "**Number of connected components**"
   ]
  },
  {
   "cell_type": "code",
   "execution_count": null,
   "id": "fc5b689a-b714-43b5-a0f7-9e4b7b815582",
   "metadata": {},
   "outputs": [],
   "source": [
    "nx.number_connected_components(G)"
   ]
  },
  {
   "cell_type": "markdown",
   "id": "469fdc33-3de6-492a-bb8a-5905d7f24829",
   "metadata": {},
   "source": [
    "**Size of the largest component**"
   ]
  },
  {
   "cell_type": "code",
   "execution_count": null,
   "id": "4e75bd01-b4b8-4a65-9f09-fd5d25bee5d6",
   "metadata": {},
   "outputs": [],
   "source": [
    "# To obtain the largest component as a new graph: \n",
    "\n",
    "# Get the list of components:\n",
    "components = nx.connected_components(G)\n",
    "# Use the max() command to find the largest one:\n",
    "largest_component = max(components, key=len)\n",
    "# Create a \"subgraph\" of the largest component\n",
    "Largest_subgraph = G.subgraph(largest_component)"
   ]
  },
  {
   "cell_type": "code",
   "execution_count": null,
   "id": "831a4206-d530-4582-9e54-c0815ffbf3cd",
   "metadata": {},
   "outputs": [],
   "source": [
    "Largest_subgraph.number_of_nodes()"
   ]
  },
  {
   "cell_type": "code",
   "execution_count": null,
   "id": "a5c8fbdf-97b5-499e-8af9-4e0c3af50990",
   "metadata": {},
   "outputs": [],
   "source": [
    "type(components)"
   ]
  },
  {
   "cell_type": "code",
   "execution_count": null,
   "id": "e22a46b6-675b-4957-92b8-ac260c36a6a8",
   "metadata": {},
   "outputs": [],
   "source": [
    "# You can compute the diameter of the largest component\n",
    "d_lc = nx.diameter(Largest_subgraph)\n",
    "d_lc"
   ]
  },
  {
   "cell_type": "markdown",
   "id": "c00645df-9ff5-4b8d-bc9f-177cfc1f7355",
   "metadata": {},
   "source": [
    "**Size of multiple components**"
   ]
  },
  {
   "cell_type": "code",
   "execution_count": null,
   "id": "22044dfb-a33f-4dfa-9219-6307b0030d31",
   "metadata": {},
   "outputs": [],
   "source": [
    "# To comput the size ( number of node) of each component\n",
    "Subg = [G.subgraph(c).copy() for c in nx.connected_components(G)]\n",
    "[len(subgraph.nodes) for subgraph in Subg]"
   ]
  },
  {
   "cell_type": "code",
   "execution_count": null,
   "id": "ece896d3-2412-4a0f-8449-a28a1d6f2277",
   "metadata": {},
   "outputs": [],
   "source": [
    "list([len(subgraph.nodes) for subgraph in Subg])"
   ]
  },
  {
   "cell_type": "code",
   "execution_count": null,
   "id": "3779ad3b-74fa-4724-b2ad-cca9afe5c743",
   "metadata": {},
   "outputs": [],
   "source": [
    "type([len(subgraph.nodes) for subgraph in Subg])"
   ]
  },
  {
   "cell_type": "markdown",
   "id": "cbd80eb1-948d-4191-bd31-509c234e789b",
   "metadata": {},
   "source": [
    "### Node removal"
   ]
  },
  {
   "cell_type": "markdown",
   "id": "51ff4977-234d-430a-816a-d9c2e8630a4e",
   "metadata": {},
   "source": [
    "#### Non-sequential"
   ]
  },
  {
   "cell_type": "code",
   "execution_count": null,
   "id": "f637ca33-3ddd-4ae4-8907-5e6296b2e785",
   "metadata": {},
   "outputs": [],
   "source": [
    "# Copy of the initial network\n",
    "G_copy = G.copy()"
   ]
  },
  {
   "cell_type": "code",
   "execution_count": null,
   "id": "570c4dc9-5460-42c5-8f7e-cb27a42eec6f",
   "metadata": {},
   "outputs": [],
   "source": [
    "# Create a blank df\n",
    "non_sq_df = pd.DataFrame()\n",
    "#Create empy columns\n",
    "non_sq_df['Nodes'] = np.nan\n",
    "non_sq_df['Removed nodes'] = np.nan\n",
    "non_sq_df['Diameter'] = np.nan\n",
    "non_sq_df['Average shortest path'] = np.nan\n",
    "non_sq_df['Number of connected components'] = np.nan\n",
    "non_sq_df['Size of largest connected component'] = np.nan"
   ]
  },
  {
   "cell_type": "code",
   "execution_count": null,
   "id": "4457b0e3-d626-4424-b9bb-47816d9a2f90",
   "metadata": {},
   "outputs": [],
   "source": [
    "# List of ranking lists\n",
    "ranks = [degree_rank, clos_rank, bet_rank, eig_rank]"
   ]
  },
  {
   "cell_type": "code",
   "execution_count": null,
   "id": "54a87e72-f128-446e-9a9e-7efa19ea2f0d",
   "metadata": {},
   "outputs": [],
   "source": [
    "labels = ['Degree', 'Closeness', 'Betweenness', 'Eigenvector']"
   ]
  },
  {
   "cell_type": "code",
   "execution_count": null,
   "id": "5edb8f19-3ef3-4846-a584-4695e285a3e4",
   "metadata": {},
   "outputs": [],
   "source": [
    "# For loop to calculate impact measures in non-sequential node removal\n",
    "counter = 0\n",
    "for r in ranks:\n",
    "    #print(r)\n",
    "    G_i = G_copy.copy()\n",
    "\n",
    "    for station in r[0:21]: \n",
    "        # Remove a node from the graph\n",
    "        \n",
    "        #print(station) \n",
    "        #G_i.remove_node(station) # Erasing before the first impact measurement is performed\n",
    "\n",
    "        # Check if the graph is connected\n",
    "        if nx.is_connected(G_i):\n",
    "            # Calculate the number of nodes in the graph\n",
    "            nodes = nx.number_of_nodes(G_i)\n",
    "            # Number of removed nodes\n",
    "            re_nodes = G_copy.number_of_nodes() - G_i.number_of_nodes()\n",
    "            # Diameter\n",
    "            diameter = nx.diameter(G_i)\n",
    "            #Average shortest path of the connected component\n",
    "            avr_shortest = nx.average_shortest_path_length(G_i)\n",
    "            # Number of connected componets\n",
    "            num_con = nx.number_connected_components(G_i)\n",
    "            # Size of the largest component\n",
    "            components = nx.connected_components(G_i)\n",
    "            # Use the max() command to find the largest one:\n",
    "            largest_component = max(components, key=len)\n",
    "            # Create a \"subgraph\" of the largest component\n",
    "            Largest_subgraph = G.subgraph(largest_component)\n",
    "            size_lar_com = Largest_subgraph.number_of_nodes()\n",
    "\n",
    "            # Add the station, number of nodes, and diameter to the DataFrame\n",
    "            # non_sq = non_sq.append({'Nodes': nodes, 'Removed nodes': re_nodes, 'Diameter for largest component': diameter,'Average shortest path':avr_shortest}, ignore_index=True)\n",
    "            non_sq_df = pd.concat([non_sq_df, pd.DataFrame({'Nodes': [nodes], 'Removed nodes': [re_nodes], 'Diameter': [diameter],'Average shortest path':[avr_shortest], 'Centrality measure':labels[counter], 'Number of connected components': num_con, 'Size of largest connected component':size_lar_com})], ignore_index=True)\n",
    "            G_i.remove_node(station)\n",
    "        else:\n",
    "            # Find the largest connected component\n",
    "            lar_component = max(nx.connected_components(G_i), key=len)\n",
    "            # Create a subgraph of the largest connected component\n",
    "            Largest_subgraph = G_i.subgraph(lar_component)\n",
    "            # Calculate the number of nodes in the subgraph\n",
    "            nodes = nx.number_of_nodes(G_i)\n",
    "            # Number of removed nodes\n",
    "            re_nodes = G_copy.number_of_nodes() - G_i.number_of_nodes()\n",
    "            # Calculate the diameter of the largest connedted component\n",
    "            diameter = nx.diameter(Largest_subgraph)\n",
    "            # Average shortest path of the largest connedted component\n",
    "            avr_shortest = nx.average_shortest_path_length(Largest_subgraph)\n",
    "            # Number of connected componets\n",
    "            num_con = nx.number_connected_components(G_i)\n",
    "            # Size of the largest component\n",
    "            size_lar_com = Largest_subgraph.number_of_nodes()\n",
    "           \n",
    "\n",
    "            # Add the station, number of nodes, and diameter to the DataFrame\n",
    "            non_sq_df = pd.concat([non_sq_df, pd.DataFrame({'Nodes': [nodes], 'Removed nodes': [re_nodes], 'Diameter': [diameter],'Average shortest path':[avr_shortest], 'Centrality measure':labels[counter], 'Number of connected components': num_con, 'Size of largest connected component':size_lar_com})], ignore_index=True)\n",
    "            G_i.remove_node(station)\n",
    "        \n",
    "    counter += 1\n",
    "        \n",
    "    #print(counter)\n",
    "        "
   ]
  },
  {
   "cell_type": "code",
   "execution_count": null,
   "id": "9224a5e5-d047-4af7-973b-dcc04eb7888c",
   "metadata": {},
   "outputs": [],
   "source": [
    "non_sq_df.head()"
   ]
  },
  {
   "cell_type": "code",
   "execution_count": null,
   "id": "3e43fbab-0642-47e3-a35a-3af744bbe077",
   "metadata": {},
   "outputs": [],
   "source": []
  },
  {
   "cell_type": "code",
   "execution_count": null,
   "id": "65774383-d116-46bc-ad8e-88ee6f955eed",
   "metadata": {},
   "outputs": [],
   "source": [
    "# #Working code\n",
    "# fig, [ax1,ax2,ax3,ax4] = plt.subplots(1, 4, sharey=False, tight_layout=True,figsize=(20, 7))\n",
    "# plt.suptitle('Impact measure - Non-sequential node removal',fontsize=22)\n",
    "# ax1.set_ylabel(\"Impact measurement value\",fontsize=14)\n",
    "# sns.lineplot(data=non_sq_df, x=\"Removed nodes\", y=\"Diameter\",palette=\"tab10\",hue='Centrality measure',ax=ax1,style='Centrality measure',linewidth = 2.5)\n",
    "# sns.lineplot(data=non_sq_df, x=\"Removed nodes\", y=\"Average shortest path\",palette=\"tab10\",hue='Centrality measure',ax=ax2,style='Centrality measure',linewidth = 2.5)\n",
    "# sns.lineplot(data=non_sq_df, x=\"Removed nodes\", y=\"Number of connected components\",palette=\"tab10\",hue='Centrality measure',ax=ax3,style='Centrality measure',linewidth = 2.5)\n",
    "# sns.lineplot(data=non_sq_df, x=\"Removed nodes\", y=\"Size of largest connected component\",palette=\"tab10\",hue='Centrality measure',ax=ax4,style='Centrality measure',linewidth = 2.5)\n",
    "\n",
    "\n",
    "# ax1.set_title(\"Diameter\",fontsize=16)\n",
    "# ax2.set_title(\"Average shortest path\",fontsize=16)\n",
    "# ax3.set_title(\"Number of connected components\",fontsize=16)\n",
    "# ax4.set_title(\"Size of largest connected component\",fontsize=16)\n",
    "\n",
    "# ax2.set_ylabel('')\n",
    "# ax3.set_ylabel('')\n",
    "# ax4.set_ylabel('')\n",
    "\n",
    "# # ax1.set_yticklabels([])\n",
    "# # ax2.set_yticklabels([]) # remove lable axis\n",
    "# # ax2.set_yticks([])\n",
    "\n",
    "\n",
    "# ax1.get_legend().remove()\n",
    "# ax2.get_legend().remove()\n",
    "# ax3.get_legend().remove()\n",
    "# plt.legend(bbox_to_anchor=(1.7, 0.5),loc='center right',title='Centrality\\nmeasure',fontsize=14,title_fontsize=16)\n",
    "\n",
    "# ax1.set_xlabel(\"Removed nodes\",fontsize=14)\n",
    "# ax2.set_xlabel(\"Removed nodes\",fontsize=14)\n",
    "# ax3.set_xlabel(\"Removed nodes\",fontsize=14)\n",
    "# ax4.set_xlabel(\"Removed nodes\",fontsize=14)\n",
    "\n",
    "# for label in (ax1.get_xticklabels() + ax1.get_yticklabels()):\n",
    "# \tlabel.set_fontsize(14)\n",
    "\n",
    "# for label in (ax2.get_xticklabels() + ax2.get_yticklabels()):\n",
    "# \tlabel.set_fontsize(14)\n",
    "    \n",
    "# for label in (ax3.get_xticklabels() + ax3.get_yticklabels()):\n",
    "# \tlabel.set_fontsize(14)\n",
    "    \n",
    "# for label in (ax4.get_xticklabels() + ax4.get_yticklabels()):\n",
    "# \tlabel.set_fontsize(14)\n",
    "    \n",
    "# # plt.savefig(\"Dis_line_ratio_meta_M1_M2_M3.jpg\",dpi=300)"
   ]
  },
  {
   "cell_type": "code",
   "execution_count": null,
   "id": "25883ccc-c68f-4b0a-a398-45c9411fa059",
   "metadata": {},
   "outputs": [],
   "source": [
    "# Selecting data for plotting\n",
    "non_sq_df[(non_sq_df['Centrality measure']=='Degree') | (non_sq_df['Centrality measure']=='Betweenness') | (non_sq_df['Centrality measure']=='Eigenvector')].tail()"
   ]
  },
  {
   "cell_type": "code",
   "execution_count": null,
   "id": "39d6ad1c-8e80-4b86-9a25-b4a2c9462040",
   "metadata": {},
   "outputs": [],
   "source": [
    "# Selecting data for plotting\n",
    "non_sq_df[(non_sq_df['Centrality measure']=='Degree') | (non_sq_df['Centrality measure']=='Betweenness') | (non_sq_df['Centrality measure']=='Eigenvector')].head()"
   ]
  },
  {
   "cell_type": "code",
   "execution_count": null,
   "id": "52387460-d850-4e0a-9e78-7e30ce590ce0",
   "metadata": {},
   "outputs": [],
   "source": [
    "# Subsetting the df for plotting\n",
    "non_sq_df_plot = non_sq_df[(non_sq_df['Centrality measure']=='Degree') | (non_sq_df['Centrality measure']=='Betweenness') | (non_sq_df['Centrality measure']=='Eigenvector')]"
   ]
  },
  {
   "cell_type": "code",
   "execution_count": null,
   "id": "129845c1-8fd6-45ce-8315-30bbac6a69f5",
   "metadata": {},
   "outputs": [],
   "source": [
    "# Setting the theme\n",
    "sns.set_theme()"
   ]
  },
  {
   "cell_type": "code",
   "execution_count": null,
   "id": "26104a75-efa4-495a-84bd-b2c0906cee47",
   "metadata": {},
   "outputs": [],
   "source": [
    "#Plotting just 3 centrality measures\n",
    "fig, [ax1,ax2] = plt.subplots(1, 2, sharey=False, tight_layout=True,figsize=(20, 7))\n",
    "plt.suptitle('Impact measure - Non-sequential node removal',fontsize=22)\n",
    "ax1.set_ylabel(\"Impact measurement value\",fontsize=14)\n",
    "# sns.lineplot(data=non_sq_df, x=\"Removed nodes\", y=\"Diameter\",palette=\"tab10\",hue='Centrality measure',ax=ax1,style='Centrality measure',linewidth = 2.5)\n",
    "# sns.lineplot(data=non_sq_df, x=\"Removed nodes\", y=\"Average shortest path\",palette=\"tab10\",hue='Centrality measure',ax=ax2,style='Centrality measure',linewidth = 2.5)\n",
    "sns.lineplot(data=non_sq_df_plot, x=\"Removed nodes\", y=\"Number of connected components\",palette=\"tab10\",hue='Centrality measure',ax=ax1,style='Centrality measure',linewidth = 2.5)\n",
    "sns.lineplot(data=non_sq_df_plot, x=\"Removed nodes\", y=\"Size of largest connected component\",palette=\"tab10\",hue='Centrality measure',ax=ax2,style='Centrality measure',linewidth = 2.5)\n",
    "\n",
    "\n",
    "# ax1.set_title(\"Diameter\",fontsize=16)\n",
    "# ax2.set_title(\"Average shortest path\",fontsize=16)\n",
    "ax1.set_title(\"Number of connected components\",fontsize=16)\n",
    "ax2.set_title(\"Size of largest connected component\",fontsize=16)\n",
    "\n",
    "ax1.set_ylabel('')\n",
    "ax2.set_ylabel('')\n",
    "# ax4.set_ylabel('')\n",
    "\n",
    "# ax1.set_yticklabels([])\n",
    "# ax2.set_yticklabels([]) # remove lable axis\n",
    "# ax2.set_yticks([])\n",
    "\n",
    "\n",
    "ax1.get_legend().remove()\n",
    "# ax2.get_legend().remove()\n",
    "# ax3.get_legend().remove()\n",
    "plt.legend(bbox_to_anchor=(1.3, 0.5),loc='center right',title='Centrality\\nmeasure',fontsize=14,title_fontsize=16)\n",
    "\n",
    "ax1.set_xlabel(\"Removed nodes\",fontsize=14)\n",
    "ax2.set_xlabel(\"Removed nodes\",fontsize=14)\n",
    "# ax3.set_xlabel(\"Removed nodes\",fontsize=14)\n",
    "# ax4.set_xlabel(\"Removed nodes\",fontsize=14)\n",
    "\n",
    "for label in (ax1.get_xticklabels() + ax1.get_yticklabels()):\n",
    "\tlabel.set_fontsize(14)\n",
    "\n",
    "for label in (ax2.get_xticklabels() + ax2.get_yticklabels()):\n",
    "\tlabel.set_fontsize(14)\n",
    "    \n",
    "# for label in (ax3.get_xticklabels() + ax3.get_yticklabels()):\n",
    "# \tlabel.set_fontsize(14)\n",
    "    \n",
    "# for label in (ax4.get_xticklabels() + ax4.get_yticklabels()):\n",
    "# \tlabel.set_fontsize(14)\n",
    "    \n",
    "# plt.savefig(\"Dis_line_ratio_meta_M1_M2_M3.jpg\",dpi=300)"
   ]
  },
  {
   "cell_type": "markdown",
   "id": "e104e14a-4ce7-4b99-be1b-74028baa6685",
   "metadata": {},
   "source": [
    "#### Sequential"
   ]
  },
  {
   "cell_type": "code",
   "execution_count": null,
   "id": "207d6260-e76c-4302-a71b-0ed639738a60",
   "metadata": {},
   "outputs": [],
   "source": [
    "measures = ['degree','closeness','betweenness','eigenvector']"
   ]
  },
  {
   "cell_type": "code",
   "execution_count": null,
   "id": "c273affc-679e-4ec8-9924-eb7a115ba16b",
   "metadata": {},
   "outputs": [],
   "source": [
    "# Define a dictionary of functions\n",
    "functions_dict = {'degree': nx.degree_centrality,\n",
    "                  'closeness': nx.closeness_centrality,\n",
    "                  'betweenness': nx.betweenness_centrality,\n",
    "                 'eigenvector':nx.eigenvector_centrality_numpy}"
   ]
  },
  {
   "cell_type": "code",
   "execution_count": null,
   "id": "2f8b6524-63fe-484d-83a6-ec9f5fdcc75f",
   "metadata": {},
   "outputs": [],
   "source": [
    "# Create a blank df\n",
    "sq_df = pd.DataFrame()\n",
    "#Create empy columns\n",
    "sq_df['Nodes'] = np.nan\n",
    "sq_df['Removed nodes'] = np.nan\n",
    "sq_df['Diameter'] = np.nan\n",
    "sq_df['Average shortest path'] = np.nan\n",
    "sq_df['Number of connected components'] = np.nan\n",
    "sq_df['Size of largest connected component'] = np.nan\n",
    "sq_df['Node removed'] = np.nan"
   ]
  },
  {
   "cell_type": "code",
   "execution_count": null,
   "id": "b01ec5f1-f556-4019-9cf5-13fdd25e634c",
   "metadata": {},
   "outputs": [],
   "source": [
    "# Working code\n",
    "counter = 0\n",
    "for m in measures:\n",
    "    #print(r)\n",
    "    G_i = G_copy.copy()\n",
    "    # print(m)\n",
    "\n",
    "    for i in range(21): \n",
    "        # Remove a node from the graph\n",
    "        \n",
    "        # Calculate the centrality measure\n",
    "        centrality_list = functions_dict[m](G_i)\n",
    "        max_centrality_node = max(centrality_list, key=centrality_list.get)\n",
    "        # print(max_centrality_node)\n",
    "        \n",
    "        # Check if the graph is connected\n",
    "        if nx.is_connected(G_i):\n",
    "            # Calculate the number of nodes in the graph\n",
    "            nodes = nx.number_of_nodes(G_i)\n",
    "            # Number of removed nodes\n",
    "            re_nodes = G_copy.number_of_nodes() - G_i.number_of_nodes()\n",
    "            # Diameter\n",
    "            diameter = nx.diameter(G_i)\n",
    "            #Average shortest path of the connected component\n",
    "            avr_shortest = nx.average_shortest_path_length(G_i)\n",
    "            # Number of connected componets\n",
    "            num_con = nx.number_connected_components(G_i)\n",
    "            # Size of the largest component\n",
    "            components = nx.connected_components(G_i)\n",
    "            # Use the max() command to find the largest one:\n",
    "            largest_component = max(components, key=len)\n",
    "            # Create a \"subgraph\" of the largest component\n",
    "            Largest_subgraph = G.subgraph(largest_component)\n",
    "            size_lar_com = Largest_subgraph.number_of_nodes()\n",
    "        \n",
    "\n",
    "            # Add the station, number of nodes, and diameter to the DataFrame\n",
    "            # non_sq = non_sq.append({'Nodes': nodes, 'Removed nodes': re_nodes, 'Diameter for largest component': diameter,'Average shortest path':avr_shortest}, ignore_index=True)\n",
    "            sq_df = pd.concat([sq_df, pd.DataFrame({'Nodes': [nodes], 'Removed nodes': [re_nodes], 'Diameter': [diameter],'Average shortest path':[avr_shortest], 'Centrality measure':labels[counter], 'Number of connected components': num_con, 'Size of largest connected component':size_lar_com,'Node removed':max_centrality_node})], ignore_index=True)\n",
    "            G_i.remove_node(max_centrality_node)\n",
    "        else:\n",
    "            # Find the largest connected component\n",
    "            lar_component = max(nx.connected_components(G_i), key=len)\n",
    "            # Create a subgraph of the largest connected component\n",
    "            Largest_subgraph = G_i.subgraph(lar_component)\n",
    "            # Calculate the number of nodes in the subgraph\n",
    "            nodes = nx.number_of_nodes(G_i)\n",
    "            # Number of removed nodes\n",
    "            re_nodes = G_copy.number_of_nodes() - G_i.number_of_nodes()\n",
    "            # Calculate the diameter of the largest connedted component\n",
    "            diameter = nx.diameter(Largest_subgraph)\n",
    "            # Average shortest path of the largest connedted component\n",
    "            avr_shortest = nx.average_shortest_path_length(Largest_subgraph)\n",
    "            # Number of connected componets\n",
    "            num_con = nx.number_connected_components(G_i)\n",
    "            # Size of the largest component\n",
    "            size_lar_com = Largest_subgraph.number_of_nodes()\n",
    "           \n",
    "\n",
    "            # Add the station, number of nodes, and diameter to the DataFrame\n",
    "            sq_df = pd.concat([sq_df, pd.DataFrame({'Nodes': [nodes], 'Removed nodes': [re_nodes], 'Diameter': [diameter],'Average shortest path':[avr_shortest], 'Centrality measure':labels[counter], 'Number of connected components': num_con, 'Size of largest connected component':size_lar_com,'Node removed':max_centrality_node})], ignore_index=True)\n",
    "            G_i.remove_node(max_centrality_node)\n",
    "        \n",
    "    counter += 1\n",
    "        \n",
    "    #print(counter)\n",
    "        "
   ]
  },
  {
   "cell_type": "code",
   "execution_count": null,
   "id": "067343a8-c5b7-48e6-9650-cb2d55cdff15",
   "metadata": {},
   "outputs": [],
   "source": [
    "sq_df.head()"
   ]
  },
  {
   "cell_type": "code",
   "execution_count": null,
   "id": "f1a5a00b-f295-4766-b09e-3457591403f5",
   "metadata": {},
   "outputs": [],
   "source": [
    "# Working code\n",
    "# Plot for sequential\n",
    "fig, [ax1,ax2,ax3,ax4] = plt.subplots(1, 4, sharey=False, tight_layout=True,figsize=(20, 7))\n",
    "plt.suptitle('Impact measure - Sequential node removal',fontsize=22)\n",
    "ax1.set_ylabel(\"Impact measurement value\",fontsize=14)\n",
    "sns.lineplot(data=sq_df, x=\"Removed nodes\", y=\"Diameter\",palette=\"tab10\",hue='Centrality measure',ax=ax1,style='Centrality measure', linewidth = 2.5)\n",
    "sns.lineplot(data=sq_df, x=\"Removed nodes\", y=\"Average shortest path\",palette=\"tab10\",hue='Centrality measure',ax=ax2,style='Centrality measure',linewidth = 2.5)\n",
    "sns.lineplot(data=sq_df, x=\"Removed nodes\", y=\"Number of connected components\",palette=\"tab10\",hue='Centrality measure',ax=ax3,style='Centrality measure',linewidth = 2.5)\n",
    "sns.lineplot(data=sq_df, x=\"Removed nodes\", y=\"Size of largest connected component\",palette=\"tab10\",hue='Centrality measure',ax=ax4,style='Centrality measure',linewidth = 2.5)\n",
    "\n",
    "\n",
    "ax1.set_title(\"Diameter\",fontsize=16)\n",
    "ax2.set_title(\"Average shortest path\",fontsize=16)\n",
    "ax3.set_title(\"Number of connected components\",fontsize=16)\n",
    "ax4.set_title(\"Size of largest connected component\",fontsize=16)\n",
    "\n",
    "ax2.set_ylabel('')\n",
    "ax3.set_ylabel('')\n",
    "ax4.set_ylabel('')\n",
    "\n",
    "# ax1.set_yticklabels([])\n",
    "# ax2.set_yticklabels([]) # remove lable axis\n",
    "# ax2.set_yticks([])\n",
    "\n",
    "\n",
    "ax1.get_legend().remove()\n",
    "ax2.get_legend().remove()\n",
    "ax3.get_legend().remove()\n",
    "plt.legend(bbox_to_anchor=(1.7, 0.5),loc='center right',title='Centrality\\nmeasure',fontsize=14,title_fontsize=16)\n",
    "\n",
    "ax1.set_xlabel(\"Removed nodes\",fontsize=14)\n",
    "ax2.set_xlabel(\"Removed nodes\",fontsize=14)\n",
    "ax3.set_xlabel(\"Removed nodes\",fontsize=14)\n",
    "ax4.set_xlabel(\"Removed nodes\",fontsize=14)\n",
    "\n",
    "for label in (ax1.get_xticklabels() + ax1.get_yticklabels()):\n",
    "\tlabel.set_fontsize(14)\n",
    "\n",
    "for label in (ax2.get_xticklabels() + ax2.get_yticklabels()):\n",
    "\tlabel.set_fontsize(14)\n",
    "    \n",
    "for label in (ax3.get_xticklabels() + ax3.get_yticklabels()):\n",
    "\tlabel.set_fontsize(14)\n",
    "    \n",
    "for label in (ax4.get_xticklabels() + ax4.get_yticklabels()):\n",
    "\tlabel.set_fontsize(14)\n",
    "    \n",
    "# plt.savefig(\"Dis_line_ratio_meta_M1_M2_M3.jpg\",dpi=300)"
   ]
  },
  {
   "cell_type": "code",
   "execution_count": null,
   "id": "c3581287-f6a1-4c76-8e51-d05bdb99d100",
   "metadata": {},
   "outputs": [],
   "source": []
  },
  {
   "cell_type": "code",
   "execution_count": null,
   "id": "8d9cc443-2d46-495a-b6c2-0af5f6a99dc0",
   "metadata": {},
   "outputs": [],
   "source": [
    "# Selecting data for plotting\n",
    "sq_df[(sq_df['Centrality measure']=='Degree') | (sq_df['Centrality measure']=='Betweenness') | (sq_df['Centrality measure']=='Eigenvector')].tail()"
   ]
  },
  {
   "cell_type": "code",
   "execution_count": null,
   "id": "00b31c2d-48bf-4341-888b-a4151559ca61",
   "metadata": {},
   "outputs": [],
   "source": [
    "# Selecting data for plotting\n",
    "sq_df[(sq_df['Centrality measure']=='Degree') | (sq_df['Centrality measure']=='Betweenness') | (sq_df['Centrality measure']=='Eigenvector')].head()"
   ]
  },
  {
   "cell_type": "code",
   "execution_count": null,
   "id": "6b9be72a-e90f-4a0e-9846-b86308ed3189",
   "metadata": {},
   "outputs": [],
   "source": [
    "# Subsetting the df for plotting\n",
    "sq_df_plot = sq_df[(sq_df['Centrality measure']=='Degree') | (sq_df['Centrality measure']=='Betweenness') | (sq_df['Centrality measure']=='Eigenvector')]"
   ]
  },
  {
   "cell_type": "code",
   "execution_count": null,
   "id": "a8a479ea-fc45-45b3-a88b-73f43421c0e7",
   "metadata": {},
   "outputs": [],
   "source": [
    "# Testing code\n",
    "# Plot for sequential for degre, betweenness and eigenvector\n",
    "fig, [ax1,ax2] = plt.subplots(1, 2, sharey=False, tight_layout=True,figsize=(20, 7))\n",
    "plt.suptitle('Impact measure - Sequential node removal',fontsize=22)\n",
    "ax1.set_ylabel(\"Impact measurement value\",fontsize=14)\n",
    "# sns.lineplot(data=sq_df, x=\"Removed nodes\", y=\"Diameter\",palette=\"tab10\",hue='Centrality measure',ax=ax1,style='Centrality measure', linewidth = 2.5)\n",
    "# sns.lineplot(data=sq_df, x=\"Removed nodes\", y=\"Average shortest path\",palette=\"tab10\",hue='Centrality measure',ax=ax2,style='Centrality measure',linewidth = 2.5)\n",
    "sns.lineplot(data=sq_df_plot, x=\"Removed nodes\", y=\"Number of connected components\",palette=\"tab10\",hue='Centrality measure',ax=ax1,style='Centrality measure',linewidth = 2.5)\n",
    "sns.lineplot(data=sq_df_plot, x=\"Removed nodes\", y=\"Size of largest connected component\",palette=\"tab10\",hue='Centrality measure',ax=ax2,style='Centrality measure',linewidth = 2.5)\n",
    "\n",
    "\n",
    "# ax1.set_title(\"Diameter\",fontsize=16)\n",
    "# ax2.set_title(\"Average shortest path\",fontsize=16)\n",
    "ax1.set_title(\"Number of connected components\",fontsize=16)\n",
    "ax2.set_title(\"Size of largest connected component\",fontsize=16)\n",
    "\n",
    "ax2.set_ylabel('')\n",
    "# ax3.set_ylabel('')\n",
    "# ax4.set_ylabel('')\n",
    "\n",
    "# ax1.set_yticklabels([])\n",
    "# ax2.set_yticklabels([]) # remove lable axis\n",
    "# ax2.set_yticks([])\n",
    "\n",
    "\n",
    "ax1.get_legend().remove()\n",
    "# ax2.get_legend().remove()\n",
    "# ax3.get_legend().remove()\n",
    "plt.legend(bbox_to_anchor=(1.3, 0.5),loc='center right',title='Centrality\\nmeasure',fontsize=14,title_fontsize=16)\n",
    "\n",
    "ax1.set_xlabel(\"Removed nodes\",fontsize=14)\n",
    "ax2.set_xlabel(\"Removed nodes\",fontsize=14)\n",
    "# ax3.set_xlabel(\"Removed nodes\",fontsize=14)\n",
    "# ax4.set_xlabel(\"Removed nodes\",fontsize=14)\n",
    "\n",
    "for label in (ax1.get_xticklabels() + ax1.get_yticklabels()):\n",
    "\tlabel.set_fontsize(14)\n",
    "\n",
    "for label in (ax2.get_xticklabels() + ax2.get_yticklabels()):\n",
    "\tlabel.set_fontsize(14)\n",
    "    \n",
    "# for label in (ax3.get_xticklabels() + ax3.get_yticklabels()):\n",
    "# \tlabel.set_fontsize(14)\n",
    "    \n",
    "# for label in (ax4.get_xticklabels() + ax4.get_yticklabels()):\n",
    "# \tlabel.set_fontsize(14)\n",
    "    \n",
    "# plt.savefig(\"Dis_line_ratio_meta_M1_M2_M3.jpg\",dpi=300)"
   ]
  },
  {
   "cell_type": "markdown",
   "id": "566657c5-878f-4dde-9803-cbe29805df23",
   "metadata": {},
   "source": [
    "**Total results**"
   ]
  },
  {
   "cell_type": "code",
   "execution_count": null,
   "id": "72c41161-ef90-48c3-88c0-1d9b75aaec1d",
   "metadata": {},
   "outputs": [],
   "source": []
  },
  {
   "cell_type": "code",
   "execution_count": null,
   "id": "d1347d94-e23a-4821-8397-6ee929229a5d",
   "metadata": {},
   "outputs": [],
   "source": [
    "plot_labels = ['Degree','Betweenness', 'Eigenvector']"
   ]
  },
  {
   "cell_type": "code",
   "execution_count": null,
   "id": "3c1b2d74-0bbe-447f-8186-fa3fedf6b1ce",
   "metadata": {},
   "outputs": [],
   "source": [
    "# Plot total results\n",
    "fig, axes = plt.subplots(2, 2, sharey=False, tight_layout=True,figsize=(14, 8))\n",
    "plt.suptitle('Impact measure results - Node removal',fontsize=22)\n",
    "# axes[0,0].set_ylabel(\"Non-sequential\",fontsize=14)\n",
    "# axes[0,1].set_ylabel(\"Sequential\",fontsize=14)\n",
    "\n",
    "axes[0,0].set_title(\"Number of connected components\",fontsize=16)\n",
    "axes[0,1].set_title(\"Size of largest connected component\",fontsize=16)\n",
    "\n",
    "\n",
    "sns.lineplot(data=non_sq_df_plot, x=\"Removed nodes\", y=\"Number of connected components\",palette=\"tab10\",hue='Centrality measure',ax=axes[0,0],style='Centrality measure',linewidth = 2.5)\n",
    "sns.lineplot(data=non_sq_df_plot, x=\"Removed nodes\", y=\"Size of largest connected component\",palette=\"tab10\",hue='Centrality measure',ax=axes[0,1],style='Centrality measure',linewidth = 2.5)\n",
    "sns.lineplot(data=sq_df_plot, x=\"Removed nodes\", y=\"Number of connected components\",palette=\"tab10\",hue='Centrality measure',ax=axes[1,0],style='Centrality measure',linewidth = 2.5)\n",
    "sns.lineplot(data=sq_df_plot, x=\"Removed nodes\", y=\"Size of largest connected component\",palette=\"tab10\",hue='Centrality measure',ax=axes[1,1],style='Centrality measure',linewidth = 2.5)\n",
    "\n",
    "axes[0,0].set_ylabel('Non-sequential')\n",
    "axes[0,1].set_ylabel('')\n",
    "axes[1,0].set_ylabel('Sequential')\n",
    "axes[1,1].set_ylabel('')\n",
    "\n",
    "# axes[0,0].get_xaxis().set_visible(False)\n",
    "# axes[0,1].get_xaxis().set_visible(False)\n",
    "\n",
    "axes[0,0].get_legend().remove()\n",
    "axes[0,1].get_legend().remove()\n",
    "axes[1,0].get_legend().remove()\n",
    "axes[1,1].get_legend().remove()\n",
    "axes[0,0].set_xlabel('')\n",
    "axes[0,1].set_xlabel('')\n",
    "\n",
    "# Change the location of legend\n",
    "# plt.legend(bbox_to_anchor=(1.45,1),loc='center right',title='Centrality\\nmeasure',fontsize=14,title_fontsize=16)\n",
    "fig.legend(bbox_to_anchor=(1.127,0.5),labels=plot_labels,loc='center right',title='Centrality\\nmeasure',fontsize=12,title_fontsize=14)\n",
    "# fig.legend(bbox_to_anchor=(0.5,-0.09),labels=plot_labels,loc=\"lower center\",ncol=3,title='Centrality measure',fontsize=12,title_fontsize=14)\n",
    "plt.savefig('Results_Impact_Measures_Total.jpg',dpi=300,bbox_inches='tight')"
   ]
  },
  {
   "cell_type": "markdown",
   "id": "a4993c2f-7e6d-4065-b27c-22aeba8869d9",
   "metadata": {},
   "source": [
    "## Flows: weighted network"
   ]
  },
  {
   "cell_type": "code",
   "execution_count": null,
   "id": "c0cb49a6-1743-4a7a-a78f-c57c60a35945",
   "metadata": {},
   "outputs": [],
   "source": [
    "# Copy of the original network\n",
    "G_w = G_copy.copy()"
   ]
  },
  {
   "cell_type": "code",
   "execution_count": null,
   "id": "0646df9a-7e37-4f97-b85a-fad3b2169177",
   "metadata": {},
   "outputs": [],
   "source": [
    "list(G_w.edges(data = True))[0]"
   ]
  },
  {
   "cell_type": "code",
   "execution_count": null,
   "id": "c823f05f-5044-4947-92d2-e31e5a420c85",
   "metadata": {},
   "outputs": [],
   "source": [
    "# Inspecting for zero valuea on the flows\n",
    "zero_flows = [(u, v) for u, v, d in G_w.edges(data=True) if d['flows'] == 0]\n",
    "print(zero_flows)"
   ]
  },
  {
   "cell_type": "markdown",
   "id": "5702d6a6-b0e3-4989-ba2f-d5935d23ee0b",
   "metadata": {},
   "source": [
    "**Remove edge and node?**"
   ]
  },
  {
   "cell_type": "code",
   "execution_count": null,
   "id": "ad3d61f2-f1fe-439f-9f09-c2ded69f30ed",
   "metadata": {},
   "outputs": [],
   "source": [
    "# Removing Battersea Park station as instructed by Elsa Arcuate\n",
    "# Before removal\n",
    "print(nx.info(G_w))"
   ]
  },
  {
   "cell_type": "code",
   "execution_count": null,
   "id": "61d74d6d-9003-4690-a684-4df190eab183",
   "metadata": {},
   "outputs": [],
   "source": [
    "# Removing node\n",
    "# G_w.remove_node('Battersea Park')"
   ]
  },
  {
   "cell_type": "code",
   "execution_count": null,
   "id": "9fc9571f-1026-4ff6-a26a-349a5ad11f4e",
   "metadata": {},
   "outputs": [],
   "source": [
    "# After removal\n",
    "print(nx.info(G_w))"
   ]
  },
  {
   "cell_type": "code",
   "execution_count": null,
   "id": "2393a12a-60eb-43c0-9ca9-47993809f0d9",
   "metadata": {},
   "outputs": [],
   "source": [
    "# Reviewing the removed node\n",
    "# set(list(G_copy.nodes())) - set(list(G_w.nodes()))"
   ]
  },
  {
   "cell_type": "code",
   "execution_count": null,
   "id": "d22ca4b0-128d-4b96-b38f-80762afb892f",
   "metadata": {},
   "outputs": [],
   "source": [
    "# # Invert the flows as it is supposed to be a distance\n",
    "# inv_flows={(e1, e2):round(1./flows,7) for e1, e2, flows in G_w.edges(data='flows')}\n",
    "\n",
    "# # Let us add the inverted weight as an attribute to the edges in the graph\n",
    "# nx.set_edge_attributes(G_w, inv_flows, 'inv_flows')\n",
    "\n",
    "# # Print head of edge list with attributes\n",
    "# list(G_w.edges(data = True))[0:10]"
   ]
  },
  {
   "cell_type": "markdown",
   "id": "79d5d0df-df65-4016-9305-25c9b4918e1d",
   "metadata": {},
   "source": [
    "# Spatial interaction models"
   ]
  },
  {
   "cell_type": "markdown",
   "id": "9be603fe-c678-44ae-bf68-a4b7dc13bbd4",
   "metadata": {},
   "source": [
    "### Models and calibration"
   ]
  },
  {
   "cell_type": "markdown",
   "id": "409518bf-64dd-4eb3-a1bf-51112dad186c",
   "metadata": {},
   "source": [
    "#### Introduction"
   ]
  },
  {
   "cell_type": "markdown",
   "id": "80d6b521-70e4-4cfd-95bb-148d595b84ca",
   "metadata": {},
   "source": [
    "#### Parameter calibration"
   ]
  },
  {
   "cell_type": "markdown",
   "id": "be143128-2b94-4ed4-820e-00a2905b9598",
   "metadata": {},
   "source": [
    "### Scenarios"
   ]
  },
  {
   "cell_type": "markdown",
   "id": "ea260bff-74d2-473a-8849-b085812cd6bc",
   "metadata": {},
   "source": [
    "#### Scenario A"
   ]
  },
  {
   "cell_type": "markdown",
   "id": "0d095801-1cec-4ba7-8bd7-0d283b5a01b8",
   "metadata": {},
   "source": [
    "#### Scenario B"
   ]
  },
  {
   "cell_type": "markdown",
   "id": "401a1631-72e1-4ebf-b984-74c1d58cedc7",
   "metadata": {},
   "source": [
    "#### Scenarios discussion"
   ]
  },
  {
   "cell_type": "code",
   "execution_count": null,
   "id": "f49dfa2e-6f3e-46db-b41a-2a50ca494d7a",
   "metadata": {},
   "outputs": [],
   "source": [
    "print('Complete run time: ' + str((timeit.default_timer() - start_time)/60)+' minutes.')"
   ]
  }
 ],
 "metadata": {
  "kernelspec": {
   "display_name": "Python 3 (ipykernel)",
   "language": "python",
   "name": "python3"
  },
  "language_info": {
   "codemirror_mode": {
    "name": "ipython",
    "version": 3
   },
   "file_extension": ".py",
   "mimetype": "text/x-python",
   "name": "python",
   "nbconvert_exporter": "python",
   "pygments_lexer": "ipython3",
   "version": "3.10.5"
  }
 },
 "nbformat": 4,
 "nbformat_minor": 5
}
