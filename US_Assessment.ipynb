{
 "cells": [
  {
   "cell_type": "markdown",
   "id": "da04cf8f-2d64-4791-8955-bcf7955490e7",
   "metadata": {},
   "source": [
    "<div style=\"float:left\">\n",
    "    <h1 style=\"width:600px\">Assessment</h1>\n",
    "    <h3 style=\"width:600px\">CASA0002: Urban Simulation</h3>\n",
    "    <h3 style=\"width:600px\">Author: Andres Restrepo</h3>\n",
    "\n",
    "</div>\n",
    "<div style=\"float:right\"><img width=\"100\" src=\"https://github.com/jreades/i2p/raw/master/img/casa_logo.jpg\" /></div>"
   ]
  },
  {
   "cell_type": "code",
   "execution_count": null,
   "id": "199054d4-25a7-46de-a512-b3e50226fb24",
   "metadata": {},
   "outputs": [],
   "source": []
  },
  {
   "cell_type": "markdown",
   "id": "37282c59-c9d3-44f0-b2b3-5a0e54f2cbd4",
   "metadata": {},
   "source": [
    "## Required libraries"
   ]
  },
  {
   "cell_type": "code",
   "execution_count": 1,
   "id": "c6e599a3-90e6-4312-b547-30dc76beb853",
   "metadata": {},
   "outputs": [],
   "source": [
    "import networkx as nx\n",
    "import matplotlib.pyplot as plt\n",
    "import pandas as pd"
   ]
  },
  {
   "cell_type": "markdown",
   "id": "8436f434-f5f9-4eea-a15d-7a8b470e2af8",
   "metadata": {},
   "source": [
    "## Data reading"
   ]
  },
  {
   "cell_type": "markdown",
   "id": "d0755f11-502c-4328-b05a-0351e07e6f0a",
   "metadata": {},
   "source": [
    "### Underground network"
   ]
  },
  {
   "cell_type": "code",
   "execution_count": 3,
   "id": "ebb7c3a3-215e-4947-b307-b5ff9fcc26f4",
   "metadata": {},
   "outputs": [],
   "source": [
    "G = nx.read_graphml('Data/Inputs/london.graph')"
   ]
  },
  {
   "cell_type": "code",
   "execution_count": 4,
   "id": "d3d1f23f-66ce-4c04-a816-8a46f00a57fe",
   "metadata": {},
   "outputs": [
    {
     "data": {
      "text/plain": [
       "networkx.classes.graph.Graph"
      ]
     },
     "execution_count": 4,
     "metadata": {},
     "output_type": "execute_result"
    }
   ],
   "source": [
    "type(G)"
   ]
  },
  {
   "cell_type": "markdown",
   "id": "bace151b-5164-43b6-96b1-cbf846cfe94d",
   "metadata": {},
   "source": [
    "### OD matrix"
   ]
  },
  {
   "cell_type": "code",
   "execution_count": 13,
   "id": "b84e1bf9-3749-4ff4-8017-15062a2c7317",
   "metadata": {},
   "outputs": [],
   "source": [
    "OD = pd.read_csv('Data/Inputs/OD_matrix.csv',index_col='station_origin')\n",
    "OD.rename_axis('station_destination', axis=1,inplace=True)"
   ]
  },
  {
   "cell_type": "code",
   "execution_count": 10,
   "id": "d3b5beac-ab03-4d30-9271-07e5b6acd738",
   "metadata": {},
   "outputs": [
    {
     "data": {
      "text/plain": [
       "pandas.core.frame.DataFrame"
      ]
     },
     "execution_count": 10,
     "metadata": {},
     "output_type": "execute_result"
    }
   ],
   "source": [
    "type(OD)"
   ]
  },
  {
   "cell_type": "markdown",
   "id": "9431fc44-2d3a-4994-b38d-2bc83be334ab",
   "metadata": {},
   "source": [
    "### Flow data"
   ]
  },
  {
   "cell_type": "code",
   "execution_count": 15,
   "id": "773d79bd-8b79-4c98-b15a-947916bb4c66",
   "metadata": {},
   "outputs": [],
   "source": [
    "london_OD_AMpeak = pd.read_csv('Data/Inputs/london_flows.csv')"
   ]
  },
  {
   "cell_type": "code",
   "execution_count": 16,
   "id": "ec551732-b877-4eb8-93d2-298dfd876481",
   "metadata": {},
   "outputs": [
    {
     "data": {
      "text/plain": [
       "pandas.core.frame.DataFrame"
      ]
     },
     "execution_count": 16,
     "metadata": {},
     "output_type": "execute_result"
    }
   ],
   "source": [
    "type(london_OD_AMpeak)"
   ]
  },
  {
   "cell_type": "markdown",
   "id": "e2746ed5-ff4a-40d3-88d9-5dee1963312d",
   "metadata": {},
   "source": [
    "## Data inspection"
   ]
  },
  {
   "cell_type": "markdown",
   "id": "ba8ee19a-9fda-497f-be35-28fe09a4c6ce",
   "metadata": {},
   "source": [
    "### Underground network"
   ]
  },
  {
   "cell_type": "code",
   "execution_count": 19,
   "id": "9fd5c5b1-9d93-49c0-ad5d-9fcd51df3636",
   "metadata": {},
   "outputs": [
    {
     "name": "stdout",
     "output_type": "stream",
     "text": [
      "Graph with 401 nodes and 467 edges\n"
     ]
    },
    {
     "name": "stderr",
     "output_type": "stream",
     "text": [
      "/tmp/ipykernel_74/2606185536.py:1: DeprecationWarning: info is deprecated and will be removed in version 3.0.\n",
      "\n",
      "  print(nx.info(G))\n"
     ]
    }
   ],
   "source": [
    "print(nx.info(G))"
   ]
  },
  {
   "cell_type": "code",
   "execution_count": null,
   "id": "5f9c1240-ec84-4939-84f1-b48be2b238e2",
   "metadata": {},
   "outputs": [],
   "source": []
  },
  {
   "cell_type": "code",
   "execution_count": 54,
   "id": "ed1f52c4-0cc8-4536-bdd9-f7b4c9626875",
   "metadata": {},
   "outputs": [],
   "source": [
    "# #check that all distances are greater or equal to euclidean distance\n",
    "# for u,v, data in G.edges(data=True):\n",
    "#     assert(data['length'] >= distance.euclidean(pos[u], pos[v]))"
   ]
  },
  {
   "cell_type": "code",
   "execution_count": 21,
   "id": "8695e6fe-eae4-4156-8457-11b0199a75f6",
   "metadata": {},
   "outputs": [
    {
     "data": {
      "text/plain": [
       "(('Wembley Park', 'Finchley Road'),\n",
       " {'length': 7266.373927496304, 'line_name': 'Metropolitan', 'flows': 55124})"
      ]
     },
     "execution_count": 21,
     "metadata": {},
     "output_type": "execute_result"
    }
   ],
   "source": [
    "#if want to know what is the maximum distance between stations\n",
    "max(dict(G.edges).items(), key=lambda x: x[1]['length'])"
   ]
  },
  {
   "cell_type": "code",
   "execution_count": 22,
   "id": "b1ba15b5-1f0f-40c9-bb6b-a85ffa927080",
   "metadata": {},
   "outputs": [
    {
     "data": {
      "text/plain": [
       "[('Bond Street', 'Baker Street'),\n",
       " ('Baker Street', 'Great Portland Street'),\n",
       " ('Baker Street', 'Edgware Road'),\n",
       " ('Baker Street', 'Finchley Road'),\n",
       " ('Baker Street', 'Marylebone'),\n",
       " ('Baker Street', \"Regent's Park\"),\n",
       " ('Baker Street', \"St. John's Wood\")]"
      ]
     },
     "execution_count": 22,
     "metadata": {},
     "output_type": "execute_result"
    }
   ],
   "source": [
    "#if want to know to which stations Baker Street is directly connected to\n",
    "Baker_Street = [(u,v) for  u,v in G.edges() if u == 'Baker Street' or v == 'Baker Street']\n",
    "Baker_Street"
   ]
  },
  {
   "cell_type": "code",
   "execution_count": 23,
   "id": "44cdc284-c6fa-4691-a5ea-af9918501b7f",
   "metadata": {},
   "outputs": [],
   "source": [
    "#We can also check the degree of the nodes in our network and check that they make sense\n",
    "deg_london = nx.degree(G)"
   ]
  },
  {
   "cell_type": "code",
   "execution_count": 24,
   "id": "eaa1fcfe-fd88-4323-b55a-03108722607b",
   "metadata": {},
   "outputs": [],
   "source": [
    "df = pd.DataFrame(index = dict(deg_london).keys())\n",
    "df['degree'] = dict(deg_london).values()"
   ]
  },
  {
   "cell_type": "code",
   "execution_count": 25,
   "id": "33d0d19c-95ab-462c-8259-8a11e51709a2",
   "metadata": {},
   "outputs": [
    {
     "data": {
      "text/html": [
       "<div>\n",
       "<style scoped>\n",
       "    .dataframe tbody tr th:only-of-type {\n",
       "        vertical-align: middle;\n",
       "    }\n",
       "\n",
       "    .dataframe tbody tr th {\n",
       "        vertical-align: top;\n",
       "    }\n",
       "\n",
       "    .dataframe thead th {\n",
       "        text-align: right;\n",
       "    }\n",
       "</style>\n",
       "<table border=\"1\" class=\"dataframe\">\n",
       "  <thead>\n",
       "    <tr style=\"text-align: right;\">\n",
       "      <th></th>\n",
       "      <th>degree</th>\n",
       "    </tr>\n",
       "  </thead>\n",
       "  <tbody>\n",
       "    <tr>\n",
       "      <th>Stratford</th>\n",
       "      <td>9</td>\n",
       "    </tr>\n",
       "    <tr>\n",
       "      <th>Bank and Monument</th>\n",
       "      <td>8</td>\n",
       "    </tr>\n",
       "    <tr>\n",
       "      <th>Baker Street</th>\n",
       "      <td>7</td>\n",
       "    </tr>\n",
       "    <tr>\n",
       "      <th>King's Cross St. Pancras</th>\n",
       "      <td>7</td>\n",
       "    </tr>\n",
       "    <tr>\n",
       "      <th>Liverpool Street</th>\n",
       "      <td>6</td>\n",
       "    </tr>\n",
       "    <tr>\n",
       "      <th>Green Park</th>\n",
       "      <td>6</td>\n",
       "    </tr>\n",
       "    <tr>\n",
       "      <th>Waterloo</th>\n",
       "      <td>6</td>\n",
       "    </tr>\n",
       "    <tr>\n",
       "      <th>West Ham</th>\n",
       "      <td>6</td>\n",
       "    </tr>\n",
       "    <tr>\n",
       "      <th>Oxford Circus</th>\n",
       "      <td>6</td>\n",
       "    </tr>\n",
       "    <tr>\n",
       "      <th>Canning Town</th>\n",
       "      <td>6</td>\n",
       "    </tr>\n",
       "    <tr>\n",
       "      <th>Earl's Court</th>\n",
       "      <td>6</td>\n",
       "    </tr>\n",
       "    <tr>\n",
       "      <th>Shadwell</th>\n",
       "      <td>5</td>\n",
       "    </tr>\n",
       "    <tr>\n",
       "      <th>Euston</th>\n",
       "      <td>5</td>\n",
       "    </tr>\n",
       "    <tr>\n",
       "      <th>Turnham Green</th>\n",
       "      <td>5</td>\n",
       "    </tr>\n",
       "    <tr>\n",
       "      <th>Willesden Junction</th>\n",
       "      <td>5</td>\n",
       "    </tr>\n",
       "    <tr>\n",
       "      <th>West Hampstead</th>\n",
       "      <td>4</td>\n",
       "    </tr>\n",
       "    <tr>\n",
       "      <th>Tottenham Court Road</th>\n",
       "      <td>4</td>\n",
       "    </tr>\n",
       "    <tr>\n",
       "      <th>Holborn</th>\n",
       "      <td>4</td>\n",
       "    </tr>\n",
       "    <tr>\n",
       "      <th>Canary Wharf</th>\n",
       "      <td>4</td>\n",
       "    </tr>\n",
       "    <tr>\n",
       "      <th>Poplar</th>\n",
       "      <td>4</td>\n",
       "    </tr>\n",
       "  </tbody>\n",
       "</table>\n",
       "</div>"
      ],
      "text/plain": [
       "                          degree\n",
       "Stratford                      9\n",
       "Bank and Monument              8\n",
       "Baker Street                   7\n",
       "King's Cross St. Pancras       7\n",
       "Liverpool Street               6\n",
       "Green Park                     6\n",
       "Waterloo                       6\n",
       "West Ham                       6\n",
       "Oxford Circus                  6\n",
       "Canning Town                   6\n",
       "Earl's Court                   6\n",
       "Shadwell                       5\n",
       "Euston                         5\n",
       "Turnham Green                  5\n",
       "Willesden Junction             5\n",
       "West Hampstead                 4\n",
       "Tottenham Court Road           4\n",
       "Holborn                        4\n",
       "Canary Wharf                   4\n",
       "Poplar                         4"
      ]
     },
     "execution_count": 25,
     "metadata": {},
     "output_type": "execute_result"
    }
   ],
   "source": [
    "df.sort_values('degree', ascending =False).head(20)"
   ]
  },
  {
   "cell_type": "markdown",
   "id": "8d18996e-9d53-466d-84c8-d9d43b870b7a",
   "metadata": {},
   "source": [
    "### OD matrix"
   ]
  },
  {
   "cell_type": "code",
   "execution_count": 7,
   "id": "15470eb4-24c4-4f83-bd20-b003576f6de0",
   "metadata": {},
   "outputs": [
    {
     "name": "stdout",
     "output_type": "stream",
     "text": [
      "<class 'pandas.core.frame.DataFrame'>\n",
      "RangeIndex: 400 entries, 0 to 399\n",
      "Columns: 401 entries, station_origin to All\n",
      "dtypes: int64(400), object(1)\n",
      "memory usage: 1.2+ MB\n"
     ]
    }
   ],
   "source": [
    "OD.info()"
   ]
  },
  {
   "cell_type": "code",
   "execution_count": 14,
   "id": "d5d1d29f-35d6-48b2-98e4-428e52eed3b4",
   "metadata": {
    "tags": []
   },
   "outputs": [
    {
     "data": {
      "text/html": [
       "<div>\n",
       "<style scoped>\n",
       "    .dataframe tbody tr th:only-of-type {\n",
       "        vertical-align: middle;\n",
       "    }\n",
       "\n",
       "    .dataframe tbody tr th {\n",
       "        vertical-align: top;\n",
       "    }\n",
       "\n",
       "    .dataframe thead th {\n",
       "        text-align: right;\n",
       "    }\n",
       "</style>\n",
       "<table border=\"1\" class=\"dataframe\">\n",
       "  <thead>\n",
       "    <tr style=\"text-align: right;\">\n",
       "      <th>station_destination</th>\n",
       "      <th>Abbey Road</th>\n",
       "      <th>Acton Central</th>\n",
       "      <th>Acton Town</th>\n",
       "      <th>Aldgate</th>\n",
       "      <th>Aldgate East</th>\n",
       "      <th>All Saints</th>\n",
       "      <th>Alperton</th>\n",
       "      <th>Amersham</th>\n",
       "      <th>Anerley</th>\n",
       "      <th>Angel</th>\n",
       "      <th>...</th>\n",
       "      <th>Wimbledon</th>\n",
       "      <th>Wimbledon Park</th>\n",
       "      <th>Wood Green</th>\n",
       "      <th>Wood Lane</th>\n",
       "      <th>Wood Street</th>\n",
       "      <th>Woodford</th>\n",
       "      <th>Woodgrange Park</th>\n",
       "      <th>Woodside Park</th>\n",
       "      <th>Woolwich Arsenal</th>\n",
       "      <th>All</th>\n",
       "    </tr>\n",
       "    <tr>\n",
       "      <th>station_origin</th>\n",
       "      <th></th>\n",
       "      <th></th>\n",
       "      <th></th>\n",
       "      <th></th>\n",
       "      <th></th>\n",
       "      <th></th>\n",
       "      <th></th>\n",
       "      <th></th>\n",
       "      <th></th>\n",
       "      <th></th>\n",
       "      <th></th>\n",
       "      <th></th>\n",
       "      <th></th>\n",
       "      <th></th>\n",
       "      <th></th>\n",
       "      <th></th>\n",
       "      <th></th>\n",
       "      <th></th>\n",
       "      <th></th>\n",
       "      <th></th>\n",
       "      <th></th>\n",
       "    </tr>\n",
       "  </thead>\n",
       "  <tbody>\n",
       "    <tr>\n",
       "      <th>Abbey Road</th>\n",
       "      <td>0</td>\n",
       "      <td>0</td>\n",
       "      <td>0</td>\n",
       "      <td>0</td>\n",
       "      <td>0</td>\n",
       "      <td>0</td>\n",
       "      <td>0</td>\n",
       "      <td>0</td>\n",
       "      <td>0</td>\n",
       "      <td>0</td>\n",
       "      <td>...</td>\n",
       "      <td>0</td>\n",
       "      <td>0</td>\n",
       "      <td>0</td>\n",
       "      <td>0</td>\n",
       "      <td>0</td>\n",
       "      <td>0</td>\n",
       "      <td>0</td>\n",
       "      <td>0</td>\n",
       "      <td>32</td>\n",
       "      <td>599</td>\n",
       "    </tr>\n",
       "    <tr>\n",
       "      <th>Acton Central</th>\n",
       "      <td>0</td>\n",
       "      <td>0</td>\n",
       "      <td>0</td>\n",
       "      <td>0</td>\n",
       "      <td>0</td>\n",
       "      <td>0</td>\n",
       "      <td>0</td>\n",
       "      <td>0</td>\n",
       "      <td>0</td>\n",
       "      <td>0</td>\n",
       "      <td>...</td>\n",
       "      <td>0</td>\n",
       "      <td>0</td>\n",
       "      <td>0</td>\n",
       "      <td>0</td>\n",
       "      <td>0</td>\n",
       "      <td>0</td>\n",
       "      <td>0</td>\n",
       "      <td>0</td>\n",
       "      <td>0</td>\n",
       "      <td>1224</td>\n",
       "    </tr>\n",
       "    <tr>\n",
       "      <th>Acton Town</th>\n",
       "      <td>0</td>\n",
       "      <td>0</td>\n",
       "      <td>0</td>\n",
       "      <td>3</td>\n",
       "      <td>17</td>\n",
       "      <td>0</td>\n",
       "      <td>35</td>\n",
       "      <td>0</td>\n",
       "      <td>0</td>\n",
       "      <td>11</td>\n",
       "      <td>...</td>\n",
       "      <td>77</td>\n",
       "      <td>3</td>\n",
       "      <td>6</td>\n",
       "      <td>9</td>\n",
       "      <td>0</td>\n",
       "      <td>0</td>\n",
       "      <td>0</td>\n",
       "      <td>0</td>\n",
       "      <td>0</td>\n",
       "      <td>3745</td>\n",
       "    </tr>\n",
       "    <tr>\n",
       "      <th>Aldgate</th>\n",
       "      <td>0</td>\n",
       "      <td>0</td>\n",
       "      <td>0</td>\n",
       "      <td>0</td>\n",
       "      <td>0</td>\n",
       "      <td>0</td>\n",
       "      <td>0</td>\n",
       "      <td>0</td>\n",
       "      <td>0</td>\n",
       "      <td>17</td>\n",
       "      <td>...</td>\n",
       "      <td>0</td>\n",
       "      <td>0</td>\n",
       "      <td>4</td>\n",
       "      <td>8</td>\n",
       "      <td>0</td>\n",
       "      <td>0</td>\n",
       "      <td>0</td>\n",
       "      <td>0</td>\n",
       "      <td>0</td>\n",
       "      <td>2886</td>\n",
       "    </tr>\n",
       "    <tr>\n",
       "      <th>Aldgate East</th>\n",
       "      <td>0</td>\n",
       "      <td>0</td>\n",
       "      <td>2</td>\n",
       "      <td>0</td>\n",
       "      <td>0</td>\n",
       "      <td>0</td>\n",
       "      <td>0</td>\n",
       "      <td>0</td>\n",
       "      <td>0</td>\n",
       "      <td>20</td>\n",
       "      <td>...</td>\n",
       "      <td>24</td>\n",
       "      <td>0</td>\n",
       "      <td>0</td>\n",
       "      <td>12</td>\n",
       "      <td>0</td>\n",
       "      <td>1</td>\n",
       "      <td>0</td>\n",
       "      <td>1</td>\n",
       "      <td>0</td>\n",
       "      <td>3172</td>\n",
       "    </tr>\n",
       "  </tbody>\n",
       "</table>\n",
       "<p>5 rows × 400 columns</p>\n",
       "</div>"
      ],
      "text/plain": [
       "station_destination  Abbey Road  Acton Central  Acton Town  Aldgate  \\\n",
       "station_origin                                                        \n",
       "Abbey Road                    0              0           0        0   \n",
       "Acton Central                 0              0           0        0   \n",
       "Acton Town                    0              0           0        3   \n",
       "Aldgate                       0              0           0        0   \n",
       "Aldgate East                  0              0           2        0   \n",
       "\n",
       "station_destination  Aldgate East  All Saints  Alperton  Amersham  Anerley  \\\n",
       "station_origin                                                               \n",
       "Abbey Road                      0           0         0         0        0   \n",
       "Acton Central                   0           0         0         0        0   \n",
       "Acton Town                     17           0        35         0        0   \n",
       "Aldgate                         0           0         0         0        0   \n",
       "Aldgate East                    0           0         0         0        0   \n",
       "\n",
       "station_destination  Angel  ...  Wimbledon  Wimbledon Park  Wood Green  \\\n",
       "station_origin              ...                                          \n",
       "Abbey Road               0  ...          0               0           0   \n",
       "Acton Central            0  ...          0               0           0   \n",
       "Acton Town              11  ...         77               3           6   \n",
       "Aldgate                 17  ...          0               0           4   \n",
       "Aldgate East            20  ...         24               0           0   \n",
       "\n",
       "station_destination  Wood Lane  Wood Street  Woodford  Woodgrange Park  \\\n",
       "station_origin                                                           \n",
       "Abbey Road                   0            0         0                0   \n",
       "Acton Central                0            0         0                0   \n",
       "Acton Town                   9            0         0                0   \n",
       "Aldgate                      8            0         0                0   \n",
       "Aldgate East                12            0         1                0   \n",
       "\n",
       "station_destination  Woodside Park  Woolwich Arsenal   All  \n",
       "station_origin                                              \n",
       "Abbey Road                       0                32   599  \n",
       "Acton Central                    0                 0  1224  \n",
       "Acton Town                       0                 0  3745  \n",
       "Aldgate                          0                 0  2886  \n",
       "Aldgate East                     1                 0  3172  \n",
       "\n",
       "[5 rows x 400 columns]"
      ]
     },
     "execution_count": 14,
     "metadata": {},
     "output_type": "execute_result"
    }
   ],
   "source": [
    "OD.head()"
   ]
  },
  {
   "cell_type": "markdown",
   "id": "08d27697-ea40-4a15-9e9b-fc79c86f6db2",
   "metadata": {},
   "source": [
    "### Flow data"
   ]
  },
  {
   "cell_type": "code",
   "execution_count": 17,
   "id": "70204fea-5917-4ebc-bcdf-b6e600844ae0",
   "metadata": {},
   "outputs": [
    {
     "name": "stdout",
     "output_type": "stream",
     "text": [
      "<class 'pandas.core.frame.DataFrame'>\n",
      "RangeIndex: 61474 entries, 0 to 61473\n",
      "Data columns (total 6 columns):\n",
      " #   Column               Non-Null Count  Dtype  \n",
      "---  ------               --------------  -----  \n",
      " 0   station_origin       61474 non-null  object \n",
      " 1   station_destination  61474 non-null  object \n",
      " 2   flows                61474 non-null  int64  \n",
      " 3   population           61474 non-null  int64  \n",
      " 4   jobs                 61474 non-null  int64  \n",
      " 5   distance             61474 non-null  float64\n",
      "dtypes: float64(1), int64(3), object(2)\n",
      "memory usage: 2.8+ MB\n"
     ]
    }
   ],
   "source": [
    "london_OD_AMpeak.info()"
   ]
  },
  {
   "cell_type": "code",
   "execution_count": 18,
   "id": "dc8699b0-2b76-45cc-b73b-30fbdfbe11be",
   "metadata": {
    "tags": []
   },
   "outputs": [
    {
     "data": {
      "text/html": [
       "<div>\n",
       "<style scoped>\n",
       "    .dataframe tbody tr th:only-of-type {\n",
       "        vertical-align: middle;\n",
       "    }\n",
       "\n",
       "    .dataframe tbody tr th {\n",
       "        vertical-align: top;\n",
       "    }\n",
       "\n",
       "    .dataframe thead th {\n",
       "        text-align: right;\n",
       "    }\n",
       "</style>\n",
       "<table border=\"1\" class=\"dataframe\">\n",
       "  <thead>\n",
       "    <tr style=\"text-align: right;\">\n",
       "      <th></th>\n",
       "      <th>station_origin</th>\n",
       "      <th>station_destination</th>\n",
       "      <th>flows</th>\n",
       "      <th>population</th>\n",
       "      <th>jobs</th>\n",
       "      <th>distance</th>\n",
       "    </tr>\n",
       "  </thead>\n",
       "  <tbody>\n",
       "    <tr>\n",
       "      <th>0</th>\n",
       "      <td>Abbey Road</td>\n",
       "      <td>Bank and Monument</td>\n",
       "      <td>0</td>\n",
       "      <td>599</td>\n",
       "      <td>78549</td>\n",
       "      <td>8131.525097</td>\n",
       "    </tr>\n",
       "    <tr>\n",
       "      <th>1</th>\n",
       "      <td>Abbey Road</td>\n",
       "      <td>Beckton</td>\n",
       "      <td>1</td>\n",
       "      <td>599</td>\n",
       "      <td>442</td>\n",
       "      <td>8510.121774</td>\n",
       "    </tr>\n",
       "    <tr>\n",
       "      <th>2</th>\n",
       "      <td>Abbey Road</td>\n",
       "      <td>Blackwall</td>\n",
       "      <td>3</td>\n",
       "      <td>599</td>\n",
       "      <td>665</td>\n",
       "      <td>3775.448872</td>\n",
       "    </tr>\n",
       "    <tr>\n",
       "      <th>3</th>\n",
       "      <td>Abbey Road</td>\n",
       "      <td>Canary Wharf</td>\n",
       "      <td>1</td>\n",
       "      <td>599</td>\n",
       "      <td>58772</td>\n",
       "      <td>5086.514220</td>\n",
       "    </tr>\n",
       "    <tr>\n",
       "      <th>4</th>\n",
       "      <td>Abbey Road</td>\n",
       "      <td>Canning Town</td>\n",
       "      <td>37</td>\n",
       "      <td>599</td>\n",
       "      <td>15428</td>\n",
       "      <td>2228.923167</td>\n",
       "    </tr>\n",
       "  </tbody>\n",
       "</table>\n",
       "</div>"
      ],
      "text/plain": [
       "  station_origin station_destination  flows  population   jobs     distance\n",
       "0     Abbey Road   Bank and Monument      0         599  78549  8131.525097\n",
       "1     Abbey Road             Beckton      1         599    442  8510.121774\n",
       "2     Abbey Road           Blackwall      3         599    665  3775.448872\n",
       "3     Abbey Road        Canary Wharf      1         599  58772  5086.514220\n",
       "4     Abbey Road        Canning Town     37         599  15428  2228.923167"
      ]
     },
     "execution_count": 18,
     "metadata": {},
     "output_type": "execute_result"
    }
   ],
   "source": [
    "london_OD_AMpeak.head()"
   ]
  },
  {
   "cell_type": "code",
   "execution_count": null,
   "id": "2fc53065-fb7c-4ed4-bb94-1b43e9f7be11",
   "metadata": {},
   "outputs": [],
   "source": []
  },
  {
   "cell_type": "markdown",
   "id": "c7c7b090-69b1-492d-bfc1-f51e81658eb6",
   "metadata": {},
   "source": [
    "## London’s underground resilience"
   ]
  },
  {
   "cell_type": "markdown",
   "id": "a0f67261-a558-4019-8dc7-2326aae800eb",
   "metadata": {},
   "source": [
    "### Centrality measures"
   ]
  },
  {
   "cell_type": "code",
   "execution_count": 29,
   "id": "9a55634a-32ce-4586-a681-a420f2dce573",
   "metadata": {},
   "outputs": [],
   "source": [
    "df_centrality = pd.DataFrame(index=G.nodes())\n",
    "\n",
    "deg_london =nx.degree_centrality(G)\n",
    "nx.set_node_attributes(G,dict(deg_london),'degree')\n",
    "df_centrality['degree'] = pd.Series(nx.get_node_attributes(G, 'degree'))\n",
    "\n",
    "clos_london = nx.closeness_centrality(G)\n",
    "nx.set_node_attributes(G,clos_london,'closeness')\n",
    "df_centrality['closeness'] = pd.Series(nx.get_node_attributes(G, 'closeness'))\n",
    "\n",
    "bet_london = nx.betweenness_centrality(G)\n",
    "nx.set_node_attributes(G,bet_london,'betweenness')\n",
    "df_centrality['betweenness'] = pd.Series(nx.get_node_attributes(G, 'betweenness'))\n",
    "\n"
   ]
  },
  {
   "cell_type": "code",
   "execution_count": 30,
   "id": "d137cfaf-f342-4af2-94ab-fe4f0a5f307b",
   "metadata": {},
   "outputs": [
    {
     "data": {
      "text/html": [
       "<div>\n",
       "<style scoped>\n",
       "    .dataframe tbody tr th:only-of-type {\n",
       "        vertical-align: middle;\n",
       "    }\n",
       "\n",
       "    .dataframe tbody tr th {\n",
       "        vertical-align: top;\n",
       "    }\n",
       "\n",
       "    .dataframe thead th {\n",
       "        text-align: right;\n",
       "    }\n",
       "</style>\n",
       "<table border=\"1\" class=\"dataframe\">\n",
       "  <thead>\n",
       "    <tr style=\"text-align: right;\">\n",
       "      <th></th>\n",
       "      <th>degree</th>\n",
       "      <th>closeness</th>\n",
       "      <th>betweenness</th>\n",
       "    </tr>\n",
       "  </thead>\n",
       "  <tbody>\n",
       "    <tr>\n",
       "      <th>Liverpool Street</th>\n",
       "      <td>0.0150</td>\n",
       "      <td>0.110254</td>\n",
       "      <td>0.270807</td>\n",
       "    </tr>\n",
       "    <tr>\n",
       "      <th>Stratford</th>\n",
       "      <td>0.0225</td>\n",
       "      <td>0.104384</td>\n",
       "      <td>0.297846</td>\n",
       "    </tr>\n",
       "    <tr>\n",
       "      <th>Maryland</th>\n",
       "      <td>0.0050</td>\n",
       "      <td>0.095193</td>\n",
       "      <td>0.063973</td>\n",
       "    </tr>\n",
       "    <tr>\n",
       "      <th>Forest Gate</th>\n",
       "      <td>0.0050</td>\n",
       "      <td>0.087489</td>\n",
       "      <td>0.059337</td>\n",
       "    </tr>\n",
       "    <tr>\n",
       "      <th>Manor Park</th>\n",
       "      <td>0.0050</td>\n",
       "      <td>0.080939</td>\n",
       "      <td>0.054700</td>\n",
       "    </tr>\n",
       "    <tr>\n",
       "      <th>...</th>\n",
       "      <td>...</td>\n",
       "      <td>...</td>\n",
       "      <td>...</td>\n",
       "    </tr>\n",
       "    <tr>\n",
       "      <th>Kentish Town</th>\n",
       "      <td>0.0050</td>\n",
       "      <td>0.091345</td>\n",
       "      <td>0.048872</td>\n",
       "    </tr>\n",
       "    <tr>\n",
       "      <th>Mornington Crescent</th>\n",
       "      <td>0.0050</td>\n",
       "      <td>0.099502</td>\n",
       "      <td>0.000000</td>\n",
       "    </tr>\n",
       "    <tr>\n",
       "      <th>Goodge Street</th>\n",
       "      <td>0.0050</td>\n",
       "      <td>0.099527</td>\n",
       "      <td>0.000503</td>\n",
       "    </tr>\n",
       "    <tr>\n",
       "      <th>Battersea Power Station</th>\n",
       "      <td>0.0025</td>\n",
       "      <td>0.084692</td>\n",
       "      <td>0.000000</td>\n",
       "    </tr>\n",
       "    <tr>\n",
       "      <th>Nine Elms</th>\n",
       "      <td>0.0050</td>\n",
       "      <td>0.092507</td>\n",
       "      <td>0.005000</td>\n",
       "    </tr>\n",
       "  </tbody>\n",
       "</table>\n",
       "<p>401 rows × 3 columns</p>\n",
       "</div>"
      ],
      "text/plain": [
       "                         degree  closeness  betweenness\n",
       "Liverpool Street         0.0150   0.110254     0.270807\n",
       "Stratford                0.0225   0.104384     0.297846\n",
       "Maryland                 0.0050   0.095193     0.063973\n",
       "Forest Gate              0.0050   0.087489     0.059337\n",
       "Manor Park               0.0050   0.080939     0.054700\n",
       "...                         ...        ...          ...\n",
       "Kentish Town             0.0050   0.091345     0.048872\n",
       "Mornington Crescent      0.0050   0.099502     0.000000\n",
       "Goodge Street            0.0050   0.099527     0.000503\n",
       "Battersea Power Station  0.0025   0.084692     0.000000\n",
       "Nine Elms                0.0050   0.092507     0.005000\n",
       "\n",
       "[401 rows x 3 columns]"
      ]
     },
     "execution_count": 30,
     "metadata": {},
     "output_type": "execute_result"
    }
   ],
   "source": [
    "df_centrality"
   ]
  },
  {
   "cell_type": "markdown",
   "id": "922b86f5-2b67-45a0-967c-5790b5af25d3",
   "metadata": {},
   "source": [
    "#### Degree centrality"
   ]
  },
  {
   "cell_type": "code",
   "execution_count": 36,
   "id": "a59251ee-e788-407a-b89d-4f491f4a4968",
   "metadata": {},
   "outputs": [
    {
     "data": {
      "text/plain": [
       "Stratford                   0.0225\n",
       "Bank and Monument           0.0200\n",
       "Baker Street                0.0175\n",
       "King's Cross St. Pancras    0.0175\n",
       "Liverpool Street            0.0150\n",
       "                             ...  \n",
       "Watford Junction            0.0025\n",
       "Cockfosters                 0.0025\n",
       "Stratford International     0.0025\n",
       "Wimbledon                   0.0025\n",
       "Stanmore                    0.0025\n",
       "Name: degree, Length: 401, dtype: float64"
      ]
     },
     "execution_count": 36,
     "metadata": {},
     "output_type": "execute_result"
    }
   ],
   "source": [
    "df_centrality['degree'].sort_values(ascending=False)"
   ]
  },
  {
   "cell_type": "markdown",
   "id": "0fc7c9d9-18db-4eb1-a6ec-bd9c6d0fe613",
   "metadata": {},
   "source": [
    "#### Closeness centrality"
   ]
  },
  {
   "cell_type": "code",
   "execution_count": 37,
   "id": "874c5054-3e6d-4a2f-bbe4-8d9ee80e05da",
   "metadata": {},
   "outputs": [
    {
     "data": {
      "text/plain": [
       "Green Park                  0.114778\n",
       "Bank and Monument           0.113572\n",
       "King's Cross St. Pancras    0.113443\n",
       "Westminster                 0.112549\n",
       "Waterloo                    0.112265\n",
       "                              ...   \n",
       "Heathrow Terminals 2 & 3    0.045096\n",
       "Heathrow Terminal 4         0.045091\n",
       "Watford High Street         0.044302\n",
       "Heathrow Terminal 5         0.043155\n",
       "Watford Junction            0.042427\n",
       "Name: closeness, Length: 401, dtype: float64"
      ]
     },
     "execution_count": 37,
     "metadata": {},
     "output_type": "execute_result"
    }
   ],
   "source": [
    "df_centrality['closeness'].sort_values(ascending=False)"
   ]
  },
  {
   "cell_type": "markdown",
   "id": "8ad1cc60-8c01-43fb-8d32-d17e253b2b7a",
   "metadata": {},
   "source": [
    "#### Betweenness centrality"
   ]
  },
  {
   "cell_type": "code",
   "execution_count": 38,
   "id": "c178520f-8b7f-49f8-bfee-c33e6349ea76",
   "metadata": {},
   "outputs": [
    {
     "data": {
      "text/plain": [
       "Stratford                   0.297846\n",
       "Bank and Monument           0.290489\n",
       "Liverpool Street            0.270807\n",
       "King's Cross St. Pancras    0.255307\n",
       "Waterloo                    0.243921\n",
       "                              ...   \n",
       "Tower Gateway               0.000000\n",
       "Battersea Park              0.000000\n",
       "West Croydon                0.000000\n",
       "Watford Junction            0.000000\n",
       "Star Lane                   0.000000\n",
       "Name: betweenness, Length: 401, dtype: float64"
      ]
     },
     "execution_count": 38,
     "metadata": {},
     "output_type": "execute_result"
    }
   ],
   "source": [
    "df_centrality['betweenness'].sort_values(ascending=False)"
   ]
  },
  {
   "cell_type": "code",
   "execution_count": 53,
   "id": "e0846bc5-82f1-4539-9f58-b508e2e7c711",
   "metadata": {},
   "outputs": [
    {
     "data": {
      "text/html": [
       "<div>\n",
       "<style scoped>\n",
       "    .dataframe tbody tr th:only-of-type {\n",
       "        vertical-align: middle;\n",
       "    }\n",
       "\n",
       "    .dataframe tbody tr th {\n",
       "        vertical-align: top;\n",
       "    }\n",
       "\n",
       "    .dataframe thead th {\n",
       "        text-align: right;\n",
       "    }\n",
       "</style>\n",
       "<table border=\"1\" class=\"dataframe\">\n",
       "  <thead>\n",
       "    <tr style=\"text-align: right;\">\n",
       "      <th></th>\n",
       "      <th>rank</th>\n",
       "      <th>degree</th>\n",
       "      <th>closeness</th>\n",
       "      <th>betweenness</th>\n",
       "    </tr>\n",
       "  </thead>\n",
       "  <tbody>\n",
       "    <tr>\n",
       "      <th>0</th>\n",
       "      <td>1</td>\n",
       "      <td>Stratford</td>\n",
       "      <td>Green Park</td>\n",
       "      <td>Stratford</td>\n",
       "    </tr>\n",
       "    <tr>\n",
       "      <th>1</th>\n",
       "      <td>2</td>\n",
       "      <td>Bank and Monument</td>\n",
       "      <td>Bank and Monument</td>\n",
       "      <td>Bank and Monument</td>\n",
       "    </tr>\n",
       "    <tr>\n",
       "      <th>2</th>\n",
       "      <td>3</td>\n",
       "      <td>Baker Street</td>\n",
       "      <td>King's Cross St. Pancras</td>\n",
       "      <td>Liverpool Street</td>\n",
       "    </tr>\n",
       "    <tr>\n",
       "      <th>3</th>\n",
       "      <td>4</td>\n",
       "      <td>King's Cross St. Pancras</td>\n",
       "      <td>Westminster</td>\n",
       "      <td>King's Cross St. Pancras</td>\n",
       "    </tr>\n",
       "    <tr>\n",
       "      <th>4</th>\n",
       "      <td>5</td>\n",
       "      <td>Liverpool Street</td>\n",
       "      <td>Waterloo</td>\n",
       "      <td>Waterloo</td>\n",
       "    </tr>\n",
       "    <tr>\n",
       "      <th>5</th>\n",
       "      <td>6</td>\n",
       "      <td>Green Park</td>\n",
       "      <td>Oxford Circus</td>\n",
       "      <td>Green Park</td>\n",
       "    </tr>\n",
       "    <tr>\n",
       "      <th>6</th>\n",
       "      <td>7</td>\n",
       "      <td>Waterloo</td>\n",
       "      <td>Bond Street</td>\n",
       "      <td>Euston</td>\n",
       "    </tr>\n",
       "    <tr>\n",
       "      <th>7</th>\n",
       "      <td>8</td>\n",
       "      <td>West Ham</td>\n",
       "      <td>Farringdon</td>\n",
       "      <td>Westminster</td>\n",
       "    </tr>\n",
       "    <tr>\n",
       "      <th>8</th>\n",
       "      <td>9</td>\n",
       "      <td>Oxford Circus</td>\n",
       "      <td>Angel</td>\n",
       "      <td>Baker Street</td>\n",
       "    </tr>\n",
       "    <tr>\n",
       "      <th>9</th>\n",
       "      <td>10</td>\n",
       "      <td>Canning Town</td>\n",
       "      <td>Moorgate</td>\n",
       "      <td>Finchley Road</td>\n",
       "    </tr>\n",
       "  </tbody>\n",
       "</table>\n",
       "</div>"
      ],
      "text/plain": [
       "   rank                    degree                 closeness  \\\n",
       "0     1                 Stratford                Green Park   \n",
       "1     2         Bank and Monument         Bank and Monument   \n",
       "2     3              Baker Street  King's Cross St. Pancras   \n",
       "3     4  King's Cross St. Pancras               Westminster   \n",
       "4     5          Liverpool Street                  Waterloo   \n",
       "5     6                Green Park             Oxford Circus   \n",
       "6     7                  Waterloo               Bond Street   \n",
       "7     8                  West Ham                Farringdon   \n",
       "8     9             Oxford Circus                     Angel   \n",
       "9    10              Canning Town                  Moorgate   \n",
       "\n",
       "                betweenness  \n",
       "0                 Stratford  \n",
       "1         Bank and Monument  \n",
       "2          Liverpool Street  \n",
       "3  King's Cross St. Pancras  \n",
       "4                  Waterloo  \n",
       "5                Green Park  \n",
       "6                    Euston  \n",
       "7               Westminster  \n",
       "8              Baker Street  \n",
       "9             Finchley Road  "
      ]
     },
     "execution_count": 53,
     "metadata": {},
     "output_type": "execute_result"
    }
   ],
   "source": [
    "df_ranking = pd.DataFrame()\n",
    "rank = list(range(1, df_centrality.shape[0]+1))\n",
    "df_ranking['rank'] = rank\n",
    "\n",
    "degree_rank = df_centrality.sort_values(by='degree',ascending=False).index.values.tolist()\n",
    "clos_rank = df_centrality.sort_values(by='closeness',ascending=False).index.values.tolist()\n",
    "bet_rank = df_centrality.sort_values(by='betweenness',ascending=False).index.values.tolist()\n",
    "\n",
    "df_ranking['degree'] = degree_rank\n",
    "df_ranking['closeness'] = clos_rank\n",
    "df_ranking['betweenness'] = bet_rank\n",
    "\n",
    "df_ranking.head(10)\n"
   ]
  },
  {
   "cell_type": "markdown",
   "id": "79d5d0df-df65-4016-9305-25c9b4918e1d",
   "metadata": {},
   "source": [
    "## Spatial interaction models"
   ]
  },
  {
   "cell_type": "markdown",
   "id": "9be603fe-c678-44ae-bf68-a4b7dc13bbd4",
   "metadata": {},
   "source": [
    "## Centrality measures"
   ]
  }
 ],
 "metadata": {
  "kernelspec": {
   "display_name": "Python 3 (ipykernel)",
   "language": "python",
   "name": "python3"
  },
  "language_info": {
   "codemirror_mode": {
    "name": "ipython",
    "version": 3
   },
   "file_extension": ".py",
   "mimetype": "text/x-python",
   "name": "python",
   "nbconvert_exporter": "python",
   "pygments_lexer": "ipython3",
   "version": "3.10.5"
  }
 },
 "nbformat": 4,
 "nbformat_minor": 5
}
