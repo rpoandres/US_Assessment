{
 "cells": [
  {
   "cell_type": "markdown",
   "id": "da04cf8f-2d64-4791-8955-bcf7955490e7",
   "metadata": {},
   "source": [
    "<div style=\"float:left\">\n",
    "    <h1 style=\"width:600px\">Assessment</h1>\n",
    "    <h3 style=\"width:600px\">CASA0002: Urban Simulation</h3>\n",
    "    <h3 style=\"width:600px\">Author: Andres Restrepo</h3>\n",
    "\n",
    "</div>\n",
    "<div style=\"float:right\"><img width=\"100\" src=\"https://github.com/jreades/i2p/raw/master/img/casa_logo.jpg\" /></div>"
   ]
  },
  {
   "cell_type": "code",
   "execution_count": null,
   "id": "199054d4-25a7-46de-a512-b3e50226fb24",
   "metadata": {},
   "outputs": [],
   "source": []
  },
  {
   "cell_type": "markdown",
   "id": "37282c59-c9d3-44f0-b2b3-5a0e54f2cbd4",
   "metadata": {},
   "source": [
    "## Required libraries"
   ]
  },
  {
   "cell_type": "code",
   "execution_count": null,
   "id": "c6e599a3-90e6-4312-b547-30dc76beb853",
   "metadata": {},
   "outputs": [],
   "source": []
  },
  {
   "cell_type": "markdown",
   "id": "8436f434-f5f9-4eea-a15d-7a8b470e2af8",
   "metadata": {},
   "source": [
    "## Data reading"
   ]
  },
  {
   "cell_type": "markdown",
   "id": "d0755f11-502c-4328-b05a-0351e07e6f0a",
   "metadata": {},
   "source": [
    "### Underground network"
   ]
  },
  {
   "cell_type": "code",
   "execution_count": null,
   "id": "ebb7c3a3-215e-4947-b307-b5ff9fcc26f4",
   "metadata": {},
   "outputs": [],
   "source": []
  },
  {
   "cell_type": "code",
   "execution_count": null,
   "id": "d3d1f23f-66ce-4c04-a816-8a46f00a57fe",
   "metadata": {},
   "outputs": [],
   "source": []
  },
  {
   "cell_type": "markdown",
   "id": "bace151b-5164-43b6-96b1-cbf846cfe94d",
   "metadata": {},
   "source": [
    "### OD matrix"
   ]
  },
  {
   "cell_type": "code",
   "execution_count": null,
   "id": "b84e1bf9-3749-4ff4-8017-15062a2c7317",
   "metadata": {},
   "outputs": [],
   "source": []
  },
  {
   "cell_type": "markdown",
   "id": "9431fc44-2d3a-4994-b38d-2bc83be334ab",
   "metadata": {},
   "source": [
    "### Flow data"
   ]
  },
  {
   "cell_type": "code",
   "execution_count": null,
   "id": "773d79bd-8b79-4c98-b15a-947916bb4c66",
   "metadata": {},
   "outputs": [],
   "source": []
  }
 ],
 "metadata": {
  "kernelspec": {
   "display_name": "Python 3 (ipykernel)",
   "language": "python",
   "name": "python3"
  },
  "language_info": {
   "codemirror_mode": {
    "name": "ipython",
    "version": 3
   },
   "file_extension": ".py",
   "mimetype": "text/x-python",
   "name": "python",
   "nbconvert_exporter": "python",
   "pygments_lexer": "ipython3",
   "version": "3.10.5"
  }
 },
 "nbformat": 4,
 "nbformat_minor": 5
}
